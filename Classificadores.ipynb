{
 "cells": [
  {
   "cell_type": "markdown",
   "id": "b6b765bd-c138-4100-9ef7-68cde24fe56d",
   "metadata": {},
   "source": [
    "Nesta aula vamos analisar alguns classificadores e verificar como eles funcionam. \n",
    "\n",
    "\n",
    "- KNN (K-nearest neighbors)\n",
    "- Support Vector Machines\n",
    "- Árvores de decisão \n",
    "- Random Forests\n",
    "- Perceptron\n",
    "- Redes Neurais"
   ]
  },
  {
   "cell_type": "markdown",
   "id": "0272306b-bfeb-469a-be30-f269129b728a",
   "metadata": {},
   "source": [
    "### KNN (K-nearest neighbors)\n",
    "\n",
    "K-nearest neighbors significa K-Vizinhos mais próximos. É um algoritmo de classificacão supervisionado baseado em instâncias que realiza a classificação através do cálculo da distância entre ele e seus K-Vizinhos mais próximos. \n",
    "\n"
   ]
  },
  {
   "cell_type": "markdown",
   "id": "f9ddcb5d-8886-41fd-b204-7ac0f22481ad",
   "metadata": {},
   "source": [
    "O KNN determina a class de dado pelo principio do voto majoritário. Se nós setamos K=5, as classes dos 5 pontos mais próximos são checados para realizar a classificação. \n",
    "\n",
    "<div>\n",
    "<img src=\"imagens/classificadores/knn.png\" width=\"300\"/>\n",
    "</div>"
   ]
  },
  {
   "cell_type": "markdown",
   "id": "1b5782c1-1638-4d46-9fa3-9ec3653c8a9e",
   "metadata": {},
   "source": [
    "**E como a distância é calculada?**"
   ]
  },
  {
   "cell_type": "markdown",
   "id": "ace7b687-beb3-4a05-b8c7-8326ab2fbd02",
   "metadata": {},
   "source": [
    "A maneira mais comum  de calcular a distância entre dois pointos é através distância euclediana. A distância euclidiana é dada pela raiz quadrada da diferença entre as coordenas x e y dos pontos.\n",
    "\n",
    "As demais distâncias podem ser vistas abaixo:"
   ]
  },
  {
   "cell_type": "markdown",
   "id": "413359bb-f340-454b-98af-703470050b24",
   "metadata": {},
   "source": [
    "\n",
    "\n",
    "<div>\n",
    "<img src=\"imagens/classificadores/medidas-distancia.png\" width=\"450\"/>\n",
    "</div>\n",
    "\n",
    "\n",
    "Para saber mais como utilizar cada distância e pontos fortes e fracos de cada uma visite o link abaixo\n",
    "\n",
    "https://ichi.pro/pt/9-medidas-de-distancia-em-ciencia-de-dados-159983401462266"
   ]
  },
  {
   "cell_type": "markdown",
   "id": "8d2d12eb-c8e1-4e37-803f-d98e5a5ce5b7",
   "metadata": {},
   "source": [
    "----"
   ]
  },
  {
   "cell_type": "markdown",
   "id": "3708f006-9d6c-4482-a532-7fafc325f6d5",
   "metadata": {},
   "source": []
  },
  {
   "cell_type": "code",
   "execution_count": null,
   "id": "9284a56c-84c5-442c-b22c-66bf8a75c745",
   "metadata": {},
   "outputs": [],
   "source": [
    "import numpy as np\n",
    "import pandas as pd\n",
    "\n",
    "import matplotlib.pyplot as plt #data visualization\n",
    "\n",
    "from sklearn.datasets import make_blobs #synthetic dataset\n",
    "from sklearn.neighbors import KNeighborsClassifier #kNN classifier\n",
    "from sklearn.model_selection import train_test_split #train and test sets"
   ]
  },
  {
   "cell_type": "code",
   "execution_count": null,
   "id": "20f5a581-5e1b-4bc6-aa6b-dc127cb5b1d8",
   "metadata": {},
   "outputs": [],
   "source": [
    "X, y = make_blobs(n_samples = 1000, n_features = 2, centers = 3,\n",
    "                       cluster_std = 1.5, random_state = 4)"
   ]
  },
  {
   "cell_type": "code",
   "execution_count": null,
   "id": "de0710db-4e62-41f2-a67f-6dbe8bdcf1aa",
   "metadata": {},
   "outputs": [],
   "source": []
  },
  {
   "cell_type": "code",
   "execution_count": null,
   "id": "ef520b3c-5442-4746-bdec-e85db6a79e4f",
   "metadata": {},
   "outputs": [],
   "source": [
    "X_train, X_test, y_train, y_test = train_test_split(X, y, random_state = 0)"
   ]
  },
  {
   "cell_type": "code",
   "execution_count": null,
   "id": "db7334da-48e0-4031-9de2-d84bc70230b8",
   "metadata": {},
   "outputs": [],
   "source": [
    "fig, ax = plt.subplots(figsize = (10,6))\n",
    "scatter = ax.scatter(X_train[:,0], X_train[:,1], c=y_train, marker= 'o', s=50)\n",
    "legend1 = ax.legend(*scatter.legend_elements(), loc=\"lower left\", title=\"Classes\")\n",
    "plt.title(\"Dados de treinamento\", fontsize=20);"
   ]
  },
  {
   "cell_type": "code",
   "execution_count": null,
   "id": "9a787a2f-958d-482b-b503-0564a03cb203",
   "metadata": {},
   "outputs": [],
   "source": [
    "knn1 = KNeighborsClassifier(n_neighbors=1) \n",
    "knn5 = KNeighborsClassifier(n_neighbors=5)"
   ]
  },
  {
   "cell_type": "code",
   "execution_count": null,
   "id": "146476e9-9958-4dc4-bed1-142d7a854f26",
   "metadata": {},
   "outputs": [],
   "source": [
    "knn1.fit(X_train, y_train)\n",
    "knn5.fit(X_train, y_train)"
   ]
  },
  {
   "cell_type": "code",
   "execution_count": null,
   "id": "29ff59c1-65e5-4821-92ed-09edae4c7b2e",
   "metadata": {},
   "outputs": [],
   "source": [
    "y_pred_1 = knn1.predict(X_test)\n",
    "y_pred_5 = knn5.predict(X_test)"
   ]
  },
  {
   "cell_type": "code",
   "execution_count": null,
   "id": "7500bc27-1393-4228-92b5-6a034e57606c",
   "metadata": {},
   "outputs": [],
   "source": [
    "from sklearn.metrics import accuracy_score\n",
    "print(\"Accuracy of kNN with k=1\", accuracy_score(y_test, y_pred_1))\n",
    "print(\"Accuracy of kNN with k=5\", accuracy_score(y_test, y_pred_5))"
   ]
  },
  {
   "cell_type": "code",
   "execution_count": null,
   "id": "c6639b29-1662-4f70-a253-60d5b3d18ff5",
   "metadata": {},
   "outputs": [],
   "source": []
  },
  {
   "cell_type": "code",
   "execution_count": null,
   "id": "549d0897-29ba-4ba6-aedc-1f46fc8dacac",
   "metadata": {},
   "outputs": [],
   "source": [
    "fig, ax = plt.subplots(figsize = (10,6))\n",
    "plt.title(\"Dados de treinamento\", fontsize=20);\n",
    "scatter = ax.scatter(X_train[:,0], X_train[:,1], c=y_train, marker= 'o', s=50)\n",
    "\n",
    "legend1 = ax.legend(*scatter.legend_elements(), loc=\"lower left\", title=\"Classes\")\n",
    "\n",
    "ax.plot(X_test[0,0], X_test[0, 1], 'rx', );"
   ]
  },
  {
   "cell_type": "code",
   "execution_count": null,
   "id": "e2c821de-27a1-4394-ac2e-79fa4667e49a",
   "metadata": {},
   "outputs": [],
   "source": []
  },
  {
   "cell_type": "markdown",
   "id": "b88510a0-a291-4ac3-9fe2-c53a6007942a",
   "metadata": {},
   "source": [
    "## Como escolher o valor de K?\n",
    "<div>\n",
    "<img src=\"imagens/classificadores/knn-qual-classe.png\" width=\"450\"/>\n",
    "</div>\n",
    "\n",
    "\n",
    "- k deve ser grande para minimizar o erro\n",
    "- Valores pequenos de k levam a fronteiras ruidosas\n",
    "- Utilizar uma base de validação para definir o valor de k"
   ]
  },
  {
   "cell_type": "code",
   "execution_count": null,
   "id": "1d4b4b50-ab85-402c-b822-05fb903ca807",
   "metadata": {},
   "outputs": [],
   "source": [
    "from sklearn.datasets import load_breast_cancer\n",
    "from sklearn.model_selection import GridSearchCV"
   ]
  },
  {
   "cell_type": "code",
   "execution_count": null,
   "id": "cb313e22-9f41-413f-815e-402760b8637f",
   "metadata": {},
   "outputs": [],
   "source": [
    "cancer = load_breast_cancer()\n",
    "(X_cancer, y_cancer) = load_breast_cancer(return_X_y = True)"
   ]
  },
  {
   "cell_type": "code",
   "execution_count": null,
   "id": "cee2486d-e3e6-4185-8e8e-ee6c028c9b8c",
   "metadata": {},
   "outputs": [],
   "source": [
    "knn_grid = GridSearchCV(estimator = KNeighborsClassifier(), \n",
    "                        param_grid={'n_neighbors': np.arange(1,20)}, cv=5)"
   ]
  },
  {
   "cell_type": "code",
   "execution_count": null,
   "id": "ea1709ba-d1a6-42f9-ae6a-52a88c1730f1",
   "metadata": {},
   "outputs": [],
   "source": [
    "knn_grid.fit(X_cancer, y_cancer)"
   ]
  },
  {
   "cell_type": "code",
   "execution_count": null,
   "id": "51fcd782-9cd5-4cad-87a4-c61a266cc9fe",
   "metadata": {},
   "outputs": [],
   "source": [
    "knn_grid._bes"
   ]
  },
  {
   "cell_type": "markdown",
   "id": "c531f8c0-bece-41e8-b1f2-d80bd0d53955",
   "metadata": {},
   "source": [
    "#### Agora que encontramos o valor ótimo de K, vamos treinar um classificador e avaliar as métricas. "
   ]
  },
  {
   "cell_type": "code",
   "execution_count": null,
   "id": "740b939f-e339-495b-abd2-76529a92947d",
   "metadata": {},
   "outputs": [],
   "source": []
  },
  {
   "cell_type": "code",
   "execution_count": null,
   "id": "36bf9daf-d9e4-4466-b3c3-357e1d48457f",
   "metadata": {},
   "outputs": [],
   "source": []
  },
  {
   "cell_type": "code",
   "execution_count": null,
   "id": "36dab3b9-e23e-4885-a8d9-c38f1fda08ca",
   "metadata": {},
   "outputs": [],
   "source": []
  },
  {
   "cell_type": "code",
   "execution_count": null,
   "id": "92603755-ccf0-4ad7-b226-f60554f19f1c",
   "metadata": {},
   "outputs": [],
   "source": []
  }
 ],
 "metadata": {
  "kernelspec": {
   "display_name": "Python 3 (ipykernel)",
   "language": "python",
   "name": "python3"
  },
  "language_info": {
   "codemirror_mode": {
    "name": "ipython",
    "version": 3
   },
   "file_extension": ".py",
   "mimetype": "text/x-python",
   "name": "python",
   "nbconvert_exporter": "python",
   "pygments_lexer": "ipython3",
   "version": "3.9.5"
  }
 },
 "nbformat": 4,
 "nbformat_minor": 5
}
