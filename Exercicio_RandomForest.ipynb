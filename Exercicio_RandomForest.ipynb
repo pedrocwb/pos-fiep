{
  "nbformat": 4,
  "nbformat_minor": 0,
  "metadata": {
    "colab": {
      "name": "Exercicio - RandomForest",
      "provenance": []
    },
    "kernelspec": {
      "name": "python3",
      "display_name": "Python 3"
    },
    "language_info": {
      "name": "python"
    }
  },
  "cells": [
    {
      "cell_type": "markdown",
      "metadata": {
        "id": "tGzd0TTefSwr"
      },
      "source": [
        "A melhor maneira de aprender os conceitos de Machine Learning é praticando! Por isso, vamos fazer um exercício para praticar os conceitos vistos até aqui. \n",
        "\n",
        "\n"
      ]
    },
    {
      "cell_type": "markdown",
      "metadata": {
        "id": "gjlTRQ-efsAZ"
      },
      "source": [
        "Para este exercicio vamos utilizar a base de dados Iris, fornecida pelo Scikit-Learn. \n",
        "\n",
        "Esta base de dados é composta por 150 observações das caracteristicas de 3 flores. \n",
        " \n",
        "\n",
        "1.   Iris Setosa\n",
        "2.   Iris Versicolor\n",
        "3.   Iris Virginica\n",
        "\n",
        "De cada flor foi medida o comprimento e a largura das pétalas e das sépalas. \n",
        "\n",
        "Seu trabalho é:\n",
        "1. Carregar os dados\n",
        "2. Dividir os dados em conjunto de trainamento e teste\n",
        "3. Treinar um classificador RandomForestClassifier\n",
        "4. Mostrar a matriz de confusão e exibir o report de classificao. \n",
        "\n",
        "\n",
        "\n"
      ]
    },
    {
      "cell_type": "code",
      "metadata": {
        "id": "uMBiZZSIgDBD"
      },
      "source": [
        "from sklearn.datasets import load_iris\n",
        "data = load_iris()"
      ],
      "execution_count": null,
      "outputs": []
    },
    {
      "cell_type": "code",
      "metadata": {
        "id": "L4H6JzrVgTTS"
      },
      "source": [
        "data.target_names"
      ],
      "execution_count": null,
      "outputs": []
    },
    {
      "cell_type": "code",
      "metadata": {
        "id": "9ErlVUgrgnSq"
      },
      "source": [
        "data.feature_names"
      ],
      "execution_count": null,
      "outputs": []
    },
    {
      "cell_type": "code",
      "metadata": {
        "id": "pQIHtjpNgzz2"
      },
      "source": [
        ""
      ],
      "execution_count": null,
      "outputs": []
    },
    {
      "cell_type": "code",
      "metadata": {
        "id": "2rP8w2HChIk7"
      },
      "source": [
        ""
      ],
      "execution_count": null,
      "outputs": []
    }
  ]
}