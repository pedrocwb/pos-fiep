{
 "cells": [
  {
   "cell_type": "markdown",
   "id": "f3cceacb-4355-4b77-beb6-71d4d67cab12",
   "metadata": {},
   "source": [
    "### Workflow\n",
    "\n",
    "\n",
    "1. Definição do problema\n",
    "2. Carregar dados de treinamento e test\n",
    "3. Preparar e limpar os dados\n",
    "4. Analisar, identificar padrões e explorar os dados\n",
    "5. Treinar o primeiro algoritmo de Machine Learning\n"
   ]
  },
  {
   "cell_type": "markdown",
   "id": "8ccab493-99ac-4d6c-bc01-91d397f3dc80",
   "metadata": {},
   "source": [
    "# Definição do problema\n",
    "\n",
    "A partir dos dados de quem sobreviveu e não sobreviveu ao desastre do Titanic em 15 de Abril de 1912, conseguimos criar um modelo que baseado nestes dados consegue indentificar padrões dos sobreviventes?\n"
   ]
  },
  {
   "cell_type": "code",
   "execution_count": null,
   "id": "6fa828d9-5aae-4ebb-bdd1-2f3ec99ab79c",
   "metadata": {},
   "outputs": [],
   "source": []
  },
  {
   "cell_type": "markdown",
   "id": "bdb5a104-e985-4498-81b3-97805a183a77",
   "metadata": {},
   "source": [
    "# Carregamento dos dados"
   ]
  },
  {
   "cell_type": "code",
   "execution_count": 2,
   "id": "2f00350d-b8e5-4d40-8a65-b5655c18380d",
   "metadata": {},
   "outputs": [],
   "source": [
    "# !mkdir data\n",
    "# !wget -L https://raw.githubusercontent.com/pedrocwb/pos-fiep/master/data/test.csv -P data/\n",
    "# !wget -L https://raw.githubusercontent.com/pedrocwb/pos-fiep/master/data/train.csv -P data/"
   ]
  },
  {
   "cell_type": "code",
   "execution_count": null,
   "id": "588a7779-c1c2-4e26-b1a0-b791e9a6efc5",
   "metadata": {},
   "outputs": [],
   "source": []
  },
  {
   "cell_type": "code",
   "execution_count": null,
   "id": "799b7291-dda7-4df2-8cb0-ad5b88538d47",
   "metadata": {},
   "outputs": [],
   "source": [
    "import pandas as pd"
   ]
  },
  {
   "cell_type": "code",
   "execution_count": null,
   "id": "2aa49db7-d611-44c7-9fa7-4f7ee86b4c32",
   "metadata": {},
   "outputs": [],
   "source": [
    "train_df = pd.read_csv(\"data/train.csv\")\n",
    "test_df = pd.read_csv(\"data/test.csv\")\n",
    "\n",
    "combine = [train_df, test_df]"
   ]
  },
  {
   "cell_type": "code",
   "execution_count": null,
   "id": "da52cbbf-17ba-4158-8143-476c99e5263f",
   "metadata": {},
   "outputs": [],
   "source": []
  },
  {
   "cell_type": "code",
   "execution_count": null,
   "id": "f7622905-de33-4c43-9b39-ee3dd93920f0",
   "metadata": {},
   "outputs": [],
   "source": []
  },
  {
   "cell_type": "code",
   "execution_count": null,
   "id": "21aabf25-0b9c-4fde-8c38-200adae05f69",
   "metadata": {},
   "outputs": [],
   "source": []
  },
  {
   "cell_type": "code",
   "execution_count": null,
   "id": "d508f273-d9d5-4090-9a0d-f2e20bceaa98",
   "metadata": {},
   "outputs": [],
   "source": []
  },
  {
   "cell_type": "code",
   "execution_count": null,
   "id": "654fccd9-458d-4c8f-ab2a-bacd2a2b108f",
   "metadata": {},
   "outputs": [],
   "source": []
  },
  {
   "cell_type": "code",
   "execution_count": null,
   "id": "3f781025-0e26-4e41-b31e-821828cf2c7a",
   "metadata": {},
   "outputs": [],
   "source": []
  },
  {
   "cell_type": "code",
   "execution_count": null,
   "id": "a412d2ce-1520-4771-b5f9-08b083158915",
   "metadata": {},
   "outputs": [],
   "source": []
  },
  {
   "cell_type": "code",
   "execution_count": null,
   "id": "0d99c54c-9d93-4d46-843e-7961413d04a5",
   "metadata": {},
   "outputs": [],
   "source": []
  },
  {
   "cell_type": "code",
   "execution_count": null,
   "id": "28fa175f-745d-40c2-9ab3-bc5946d09e21",
   "metadata": {},
   "outputs": [],
   "source": []
  },
  {
   "cell_type": "code",
   "execution_count": null,
   "id": "b8b3c7a6-eb99-43fd-b397-4f17831c0598",
   "metadata": {},
   "outputs": [],
   "source": []
  },
  {
   "cell_type": "code",
   "execution_count": null,
   "id": "9e383d81-9ed0-4ade-811a-be1b53c37799",
   "metadata": {},
   "outputs": [],
   "source": []
  },
  {
   "cell_type": "code",
   "execution_count": null,
   "id": "6ef37fdf-f28f-4e09-99bc-22fd29d5aefc",
   "metadata": {},
   "outputs": [],
   "source": []
  }
 ],
 "metadata": {
  "kernelspec": {
   "display_name": "Python 3 (ipykernel)",
   "language": "python",
   "name": "python3"
  },
  "language_info": {
   "codemirror_mode": {
    "name": "ipython",
    "version": 3
   },
   "file_extension": ".py",
   "mimetype": "text/x-python",
   "name": "python",
   "nbconvert_exporter": "python",
   "pygments_lexer": "ipython3",
   "version": "3.9.5"
  }
 },
 "nbformat": 4,
 "nbformat_minor": 5
}
