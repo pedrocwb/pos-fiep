{
 "cells": [
  {
   "cell_type": "markdown",
   "id": "f3cceacb-4355-4b77-beb6-71d4d67cab12",
   "metadata": {},
   "source": [
    "# test this notebook"
   ]
  },
  {
   "cell_type": "code",
   "execution_count": null,
   "id": "e991fceb-2f9f-49b4-a2aa-501db7ef9dea",
   "metadata": {},
   "outputs": [],
   "source": []
  },
  {
   "cell_type": "code",
   "execution_count": null,
   "id": "ffbfd080-79ca-46cb-8099-d8750cc85393",
   "metadata": {},
   "outputs": [],
   "source": []
  }
 ],
 "metadata": {
  "kernelspec": {
   "display_name": "Python 3 (ipykernel)",
   "language": "python",
   "name": "python3"
  },
  "language_info": {
   "codemirror_mode": {
    "name": "ipython",
    "version": 3
   },
   "file_extension": ".py",
   "mimetype": "text/x-python",
   "name": "python",
   "nbconvert_exporter": "python",
   "pygments_lexer": "ipython3",
   "version": "3.9.5"
  }
 },
 "nbformat": 4,
 "nbformat_minor": 5
}
