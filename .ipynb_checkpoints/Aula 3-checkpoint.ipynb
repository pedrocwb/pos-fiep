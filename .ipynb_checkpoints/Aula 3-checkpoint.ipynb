{
 "cells": [
  {
   "cell_type": "markdown",
   "id": "3d61e90e-64b4-4c0f-ab49-70a5d7204662",
   "metadata": {},
   "source": [
    "# Métricas de Avaliação \n",
    "\n",
    "Avaliar seu algoritmo the Machine Learning (ML) é parte essencial de qualquer projeto. \n",
    "Existem diversas métricas para avaliar as mais diferences applicações de ML. Para algumas aplicações uma única métrica pode ser o suficente para julgar um modelo, para outras aplicações uma métrica apenas pode não dar ser suficiente para avaliar concretamente seu modelo. \n",
    "\n",
    "Nesta aula vamos ver algumas métricas dos algoritmos de classificação.\n",
    "\n",
    "    - Matriz de confusão\n",
    "    - Acurácia\n",
    "    - Precisão\n",
    "    - Recall\n",
    "    - F1-Score\n",
    "\n"
   ]
  },
  {
   "cell_type": "markdown",
   "id": "799fc6de-da6b-4541-9871-0cbbe25d8623",
   "metadata": {},
   "source": [
    "## Matriz de confusão\n",
    "\n",
    "Uma matriz de confusão é uma tabela que indica os erros e acertos do seu modelo, comparando com o resultado esperado (ou etiquetas/labels). A imagem abaixo demonstra um exemplo de uma matriz de confusão.\n",
    "\n",
    "![image.png](imagens/matrix-de-confusao-1.png)!\n",
    "\n",
    "- Verdadeiros Positivos: classificação correta da classe Positivo;\n",
    "- Falsos Positivos (Erro Tipo I): erro em que o modelo previu a classe Positivo quando o valor real era classe Negativo;\n",
    "- Falsos Negativos (Erro Tipo II): erro em que o modelo previu a classe Negativo quando o valor real era classe Positivo;\n",
    "- Verdadeiros Negativos: classificação correta da classe Negativo.\n",
    "\n",
    "\n",
    "A matriz de confusão oferece uma visão tabular das predições do modelo vs os valores reais esperados. "
   ]
  },
  {
   "cell_type": "markdown",
   "id": "850f5314-40ce-4f81-ada1-ef8fd85109de",
   "metadata": {},
   "source": [
    "### Exemplo\n",
    "Digamos que estamos construindo um classificador binário que classifica veiculos militares entre os veículos civis. O nosso cliente nos entregou uma base com 2000 imagens que contém veículos militares e cívis e para cada imagem o nosso cliente nos forneceu o rótulo dizendo se é militar o civil. Os rótulos são 0 se o veículo é militar e 1 se o veículo é civil.\n",
    "\n",
    "Exemplo: \n",
    "<div>\n",
    "<img src=\"imagens/veiculo-militar.png\" width=\"300\"/>\n",
    "<img src=\"imagens/veiculo-civil.png\" width=\"300\"/>\n",
    "</div>"
   ]
  },
  {
   "cell_type": "markdown",
   "id": "32f97376-e48d-448a-8d23-d9375cbafda8",
   "metadata": {},
   "source": [
    "#### Vamos agora treinar um classificador para esse problema"
   ]
  },
  {
   "cell_type": "code",
   "execution_count": 341,
   "id": "c1ebb8a3-face-416b-81b1-484b5d9dd742",
   "metadata": {},
   "outputs": [],
   "source": [
    "import matplotlib.pyplot as plt\n",
    "from sklearn.datasets import make_classification\n",
    "from sklearn.metrics import confusion_matrix, ConfusionMatrixDisplay\n",
    "from sklearn.model_selection import train_test_split\n",
    "from sklearn.svm import SVC\n",
    "import pandas as pd\n",
    "import numpy as np"
   ]
  },
  {
   "cell_type": "code",
   "execution_count": 342,
   "id": "ec842778-31d1-480a-b281-ff20b2f839e3",
   "metadata": {},
   "outputs": [],
   "source": [
    "# A função make_classification gera uma base de dados com base em informações que passamos. \n",
    "X, y = make_classification(n_samples=2000, n_features=10, n_classes=2, random_state=0, weights=(.35, ), n_informative=6)"
   ]
  },
  {
   "cell_type": "code",
   "execution_count": 345,
   "id": "702ff709-247f-4f91-820f-4e22ab9d2932",
   "metadata": {},
   "outputs": [
    {
     "data": {
      "text/html": [
       "<div>\n",
       "<style scoped>\n",
       "    .dataframe tbody tr th:only-of-type {\n",
       "        vertical-align: middle;\n",
       "    }\n",
       "\n",
       "    .dataframe tbody tr th {\n",
       "        vertical-align: top;\n",
       "    }\n",
       "\n",
       "    .dataframe thead th {\n",
       "        text-align: right;\n",
       "    }\n",
       "</style>\n",
       "<table border=\"1\" class=\"dataframe\">\n",
       "  <thead>\n",
       "    <tr style=\"text-align: right;\">\n",
       "      <th></th>\n",
       "      <th>Feature_0</th>\n",
       "      <th>Feature_1</th>\n",
       "      <th>Feature_2</th>\n",
       "      <th>Feature_3</th>\n",
       "      <th>Feature_4</th>\n",
       "      <th>Feature_5</th>\n",
       "      <th>Feature_6</th>\n",
       "      <th>Feature_7</th>\n",
       "      <th>Feature_8</th>\n",
       "      <th>Feature_9</th>\n",
       "      <th>Rótulo</th>\n",
       "    </tr>\n",
       "  </thead>\n",
       "  <tbody>\n",
       "    <tr>\n",
       "      <th>0</th>\n",
       "      <td>-0.040513</td>\n",
       "      <td>2.951265</td>\n",
       "      <td>1.060261</td>\n",
       "      <td>-2.652453</td>\n",
       "      <td>-0.957480</td>\n",
       "      <td>-0.274823</td>\n",
       "      <td>1.503258</td>\n",
       "      <td>1.608859</td>\n",
       "      <td>-2.110294</td>\n",
       "      <td>-3.656248</td>\n",
       "      <td>1</td>\n",
       "    </tr>\n",
       "    <tr>\n",
       "      <th>1</th>\n",
       "      <td>0.975773</td>\n",
       "      <td>-0.454778</td>\n",
       "      <td>-1.022146</td>\n",
       "      <td>-0.661446</td>\n",
       "      <td>-1.124285</td>\n",
       "      <td>3.005591</td>\n",
       "      <td>-1.010734</td>\n",
       "      <td>3.773225</td>\n",
       "      <td>-3.272214</td>\n",
       "      <td>-2.707370</td>\n",
       "      <td>0</td>\n",
       "    </tr>\n",
       "    <tr>\n",
       "      <th>2</th>\n",
       "      <td>1.573295</td>\n",
       "      <td>0.396197</td>\n",
       "      <td>1.226483</td>\n",
       "      <td>0.448688</td>\n",
       "      <td>-1.340132</td>\n",
       "      <td>1.479806</td>\n",
       "      <td>0.900919</td>\n",
       "      <td>-1.357744</td>\n",
       "      <td>-0.279952</td>\n",
       "      <td>0.724771</td>\n",
       "      <td>1</td>\n",
       "    </tr>\n",
       "    <tr>\n",
       "      <th>3</th>\n",
       "      <td>0.819620</td>\n",
       "      <td>0.196415</td>\n",
       "      <td>-1.459497</td>\n",
       "      <td>-0.118134</td>\n",
       "      <td>0.700670</td>\n",
       "      <td>-0.535779</td>\n",
       "      <td>0.245606</td>\n",
       "      <td>-0.429413</td>\n",
       "      <td>0.134366</td>\n",
       "      <td>0.540658</td>\n",
       "      <td>0</td>\n",
       "    </tr>\n",
       "    <tr>\n",
       "      <th>4</th>\n",
       "      <td>1.798295</td>\n",
       "      <td>0.931386</td>\n",
       "      <td>-1.846217</td>\n",
       "      <td>0.726682</td>\n",
       "      <td>1.353039</td>\n",
       "      <td>1.481476</td>\n",
       "      <td>-1.074663</td>\n",
       "      <td>-0.857414</td>\n",
       "      <td>-0.920220</td>\n",
       "      <td>-0.356325</td>\n",
       "      <td>1</td>\n",
       "    </tr>\n",
       "  </tbody>\n",
       "</table>\n",
       "</div>"
      ],
      "text/plain": [
       "   Feature_0  Feature_1  Feature_2  Feature_3  Feature_4  Feature_5  \\\n",
       "0  -0.040513   2.951265   1.060261  -2.652453  -0.957480  -0.274823   \n",
       "1   0.975773  -0.454778  -1.022146  -0.661446  -1.124285   3.005591   \n",
       "2   1.573295   0.396197   1.226483   0.448688  -1.340132   1.479806   \n",
       "3   0.819620   0.196415  -1.459497  -0.118134   0.700670  -0.535779   \n",
       "4   1.798295   0.931386  -1.846217   0.726682   1.353039   1.481476   \n",
       "\n",
       "   Feature_6  Feature_7  Feature_8  Feature_9  Rótulo  \n",
       "0   1.503258   1.608859  -2.110294  -3.656248       1  \n",
       "1  -1.010734   3.773225  -3.272214  -2.707370       0  \n",
       "2   0.900919  -1.357744  -0.279952   0.724771       1  \n",
       "3   0.245606  -0.429413   0.134366   0.540658       0  \n",
       "4  -1.074663  -0.857414  -0.920220  -0.356325       1  "
      ]
     },
     "execution_count": 345,
     "metadata": {},
     "output_type": "execute_result"
    }
   ],
   "source": [
    "base = pd.DataFrame(X, columns=[f\"Feature_{i}\" for i in range(10)]).join(pd.DataFrame(y, columns=[\"Rótulo\"]))\n",
    "base.head()"
   ]
  },
  {
   "cell_type": "code",
   "execution_count": 346,
   "id": "596b2ea3-0828-4893-9791-5dfb59230dc3",
   "metadata": {},
   "outputs": [
    {
     "data": {
      "text/plain": [
       "((1400, 10), (600, 10))"
      ]
     },
     "execution_count": 346,
     "metadata": {},
     "output_type": "execute_result"
    }
   ],
   "source": [
    "# dividir a base de trainamento e base de testes\n",
    "X_train, X_test, y_train, y_test = train_test_split(base[base.columns[:-1]], base[\"Rótulo\"], random_state=0, test_size=600, )\n",
    "X_train.shape, X_test.shape"
   ]
  },
  {
   "cell_type": "code",
   "execution_count": 348,
   "id": "026e9f74-2f3b-40e6-9a09-258f32c9272c",
   "metadata": {},
   "outputs": [
    {
     "data": {
      "text/plain": [
       "SVC(random_state=0)"
      ]
     },
     "execution_count": 348,
     "metadata": {},
     "output_type": "execute_result"
    }
   ],
   "source": [
    "# Treinar um classificador Support Vector Machines\n",
    "clf = SVC(random_state=0)\n",
    "clf.fit(X_train, y_train)"
   ]
  },
  {
   "cell_type": "code",
   "execution_count": 349,
   "id": "522b162d-0395-4635-8264-82a33382137e",
   "metadata": {},
   "outputs": [],
   "source": [
    "predictions = clf.predict(X_test)"
   ]
  },
  {
   "cell_type": "code",
   "execution_count": 386,
   "id": "eacd1a34-42cd-4498-9fbc-843ece9c159d",
   "metadata": {},
   "outputs": [
    {
     "data": {
      "image/png": "[encoded data removed]",
      "text/plain": [
       "<Figure size 720x576 with 2 Axes>"
      ]
     },
     "metadata": {
      "needs_background": "light"
     },
     "output_type": "display_data"
    }
   ],
   "source": [
    "fig, ax = plt.subplots(figsize = (10,8))\n",
    "cm = confusion_matrix(y_test, predictions,)\n",
    "disp = ConfusionMatrixDisplay(confusion_matrix=cm, display_labels=[\"Militar\", \"Civil\"], )\n",
    "disp.plot(ax=ax);"
   ]
  },
  {
   "cell_type": "markdown",
   "id": "70749057-4cb4-4124-9ac3-ec6e3661711d",
   "metadata": {},
   "source": [
    "- O que a Matriz de Confusão acima nos indica?\n",
    "- Quais são os erros Tipo I e Tipo II?"
   ]
  },
  {
   "cell_type": "code",
   "execution_count": null,
   "id": "aa340b67-0deb-405e-a570-9926ee2ecc87",
   "metadata": {},
   "outputs": [],
   "source": []
  },
  {
   "cell_type": "markdown",
   "id": "1e3cb4de-1ed4-4be9-b306-608842fd3344",
   "metadata": {},
   "source": [
    "\n",
    "### Derivando as métricas a partir da matriz de confusão\n",
    "\n",
    "\n",
    "A partir desta matriz de confusão conseguimos derivar as principais métricas para avaliar nosso modelo. Veja esse esquema abaixo:\n",
    "\n",
    "\n",
    "<div>\n",
    "<img src=\"imagens/metricas.png\" width=\"400\"/>\n",
    "</div>\n",
    "\n",
    "\n",
    "- VP = Verdadeiro Positivo\n",
    "- VN = Verdadeiro Negativo\n",
    "- FP = Falso Positivo\n",
    "- FN = False Negativo"
   ]
  },
  {
   "cell_type": "markdown",
   "id": "b3cd4c3d-e578-4600-9707-f02dbb153836",
   "metadata": {},
   "source": [
    "## Acurácia\n",
    "Indica uma performance geral do modelo. Ou seja, dentre todas as predições, quantas o modelo classificou corretamente.\n",
    "\n",
    "- A formula da acurácia é (VP+VN) / VP+VN+FP+FN\n",
    "\n",
    "\n",
    "A palavra acuracidade surgiu a partir da palavra inglesa accuracy, que significa exatidão e rigor.  O termo é definido como exatidão de um valor obtido com relação a um valor tomado como referência. Modelos acurados são aqules cujo a predicão se aproxima do valor correto, ou seja, valor de referência."
   ]
  },
  {
   "cell_type": "code",
   "execution_count": 388,
   "id": "e20845ce-b380-4598-97cb-d10792aacc0c",
   "metadata": {},
   "outputs": [
    {
     "data": {
      "text/plain": [
       "0.9383333333333334"
      ]
     },
     "execution_count": 388,
     "metadata": {},
     "output_type": "execute_result"
    }
   ],
   "source": [
    "from sklearn.metrics import accuracy_score\n",
    "accuracy_score(y_test, predictions, )"
   ]
  },
  {
   "cell_type": "markdown",
   "id": "faf434bb-5a38-4da4-9897-692f3191af7f",
   "metadata": {},
   "source": [
    "Acabamos de calcular a acurácia do modelo através da função accuracy_score. Agora vamos validar essa métrica utilizando a fórmula da acurácia e a matriz de confusão."
   ]
  },
  {
   "cell_type": "code",
   "execution_count": null,
   "id": "7dba17c9-988b-47f4-b9bd-8ea469d09235",
   "metadata": {},
   "outputs": [],
   "source": []
  },
  {
   "cell_type": "markdown",
   "id": "45d3de61-2623-4417-afd7-5fc7098b7d6c",
   "metadata": {},
   "source": [
    "## Precisão\n",
    "Indica dentre todas as classificações de classe Positivo que o modelo fez, quantas estão corretas;\n",
    "\n",
    "- A formula da precisão é VP / VP+FP\n",
    "\n",
    "\n",
    "A precisão é utilizada para medir a performance para cada classe. Muito útil para quando estamos lidando com classes desbalanceadas. \n",
    "\n",
    "\n",
    "Olhando esta fórmula, podemos ver que a precisão dá um ênfase maior para os erros por falso positivo. Podemos entender a precisão como sendo a expressão matemática para a pergunta: dos exemplos classificados como positivos, quantos realmente são positivos? "
   ]
  },
  {
   "cell_type": "code",
   "execution_count": 389,
   "id": "65ba1c49-6b7a-4111-8e2a-13757ad43da2",
   "metadata": {},
   "outputs": [
    {
     "data": {
      "text/plain": [
       "0.955"
      ]
     },
     "execution_count": 389,
     "metadata": {},
     "output_type": "execute_result"
    }
   ],
   "source": [
    "from sklearn.metrics import precision_score\n",
    "precision_score(y_test, predictions, pos_label=0)"
   ]
  },
  {
   "cell_type": "code",
   "execution_count": 390,
   "id": "4c894ca8-dc47-406d-a6ec-44c2ed23a46a",
   "metadata": {},
   "outputs": [
    {
     "data": {
      "text/plain": [
       "0.93"
      ]
     },
     "execution_count": 390,
     "metadata": {},
     "output_type": "execute_result"
    }
   ],
   "source": [
    "precision_score(y_test, predictions, pos_label=1)"
   ]
  },
  {
   "cell_type": "markdown",
   "id": "d57c0ff9-f886-4e57-b9d7-7029746eff32",
   "metadata": {},
   "source": [
    "De maneira similar, vamos verificar através da matriz de confusão se os cálculos da acurácia para as classes 0 e 1 (militar oe civil) estão corretos."
   ]
  },
  {
   "cell_type": "code",
   "execution_count": null,
   "id": "dc9df992-a85f-4b0d-a021-c705ae41d274",
   "metadata": {},
   "outputs": [],
   "source": []
  },
  {
   "cell_type": "markdown",
   "id": "daf9ab57-804c-4efa-ade9-a5adb5b5c1cb",
   "metadata": {},
   "source": [
    "## Recall/Revocação/Sensibilidade\n",
    "Indica dentre todas dentre todas as situações de classe Positivo como valor esperado, quantas estão corretas;\n",
    "\n",
    "\n",
    "- A formula da precisão é VP / VP+FN\n",
    "\n",
    "\n",
    "A revocação busca responder a seguinte pergunta: de todos os exemplos que são positivos, quantos foram classificados corretamente como positivos?\n",
    "\n"
   ]
  },
  {
   "cell_type": "code",
   "execution_count": 391,
   "id": "92d59816-540d-409b-beb6-aa52554e6aef",
   "metadata": {},
   "outputs": [],
   "source": [
    "from sklearn.metrics import recall_score"
   ]
  },
  {
   "cell_type": "code",
   "execution_count": 392,
   "id": "096a04c2-33fd-4077-88c8-a62fbc5b5e2f",
   "metadata": {},
   "outputs": [
    {
     "data": {
      "text/plain": [
       "0.8721461187214612"
      ]
     },
     "execution_count": 392,
     "metadata": {},
     "output_type": "execute_result"
    }
   ],
   "source": [
    "recall_score(y_test, predictions, pos_label=0)"
   ]
  },
  {
   "cell_type": "markdown",
   "id": "6861dae5-da47-40b6-8e05-867d86374a33",
   "metadata": {},
   "source": [
    "Calcule o recall com base na matriz de confusão"
   ]
  },
  {
   "cell_type": "code",
   "execution_count": null,
   "id": "dcf4a08e-e1d1-4c50-a4f2-b37aa24170f8",
   "metadata": {},
   "outputs": [],
   "source": []
  },
  {
   "cell_type": "markdown",
   "id": "f82242ea-25be-41f2-ada6-e7034a176afd",
   "metadata": {},
   "source": [
    "## F1-Score\n",
    "\n",
    "É a métrica que leva em consideração tanto a precisão quanto o recall. Ela é definida pela média harmônica entre as duas, como pode ser visto abaixo. \n",
    "\n",
    "- A formula da precisão é F1 = 2 * ((precisão * recall) / (precisao + recall))\n",
    "\n",
    "É uma maneira de visualizar as Métricas de Precisão e Recall em apenas uma métrica. \n"
   ]
  },
  {
   "cell_type": "code",
   "execution_count": 393,
   "id": "64535578-90f7-4bf8-9739-c36d42b692e2",
   "metadata": {},
   "outputs": [],
   "source": [
    "from sklearn.metrics import f1_score"
   ]
  },
  {
   "cell_type": "code",
   "execution_count": 394,
   "id": "96d2c3ee-7ea9-47f7-b2ac-28bdeec06d3a",
   "metadata": {},
   "outputs": [
    {
     "data": {
      "text/plain": [
       "0.9116945107398569"
      ]
     },
     "execution_count": 394,
     "metadata": {},
     "output_type": "execute_result"
    }
   ],
   "source": [
    "f1_score(predictions, y_test, pos_label=0)"
   ]
  },
  {
   "cell_type": "code",
   "execution_count": null,
   "id": "bb0486cd-0f6f-486c-95bd-c6315295a0b5",
   "metadata": {},
   "outputs": [],
   "source": []
  },
  {
   "cell_type": "code",
   "execution_count": null,
   "id": "e6fe8e58-21af-474b-b7b6-04889bd595e9",
   "metadata": {},
   "outputs": [],
   "source": []
  },
  {
   "cell_type": "markdown",
   "id": "04df6fd1-a3b6-4de1-8d7f-2f99b38f661e",
   "metadata": {},
   "source": [
    "<div>\n",
    "<img src=\"imagens/matrix-de-confusao-classe-desbalanceada.png\" width=\"600\"/>\n",
    "</div>\n",
    "\n"
   ]
  },
  {
   "cell_type": "markdown",
   "id": "daaaffe0-3878-4bca-93b8-de767a4a77e5",
   "metadata": {},
   "source": [
    "### Exemplo onde a acurácia não avalia bem o modelo\n",
    "\n",
    "\n",
    "Uma das maiores desvantagens é que em alguns problemas a acurácia pode ser elevada mas, ainda assim, o modelo pode ter uma performance inadequada. Por exemplo, considere o modelo que classifica exames de câncer entre positivo ou negativo para a doença, e em nosso conjunto de dados temos 1000 exemplos, sendo 990 de pacientes sem câncer e 10 de pacientes com câncer. Caso nosso modelo seja ingênuo e sempre classifique todos os exemplos com negativo (sem câncer), ele ainda obteria uma acurácia de 99%. O que parece uma excelente métrica, mas na verdade não estamos avaliando nosso modelo de forma adequada. Para melhor avaliar modelos que lidam com conjuntos de dados desbalanceados como este, outras métricas que serão apresentadas em seguida devem ser utilizadas."
   ]
  },
  {
   "cell_type": "code",
   "execution_count": 318,
   "id": "e42b1a0f-f72e-436b-af56-100eb2201371",
   "metadata": {},
   "outputs": [],
   "source": [
    "X, y = make_classification(n_samples=10000, n_features=50, n_classes=2, random_state=0, weights=(.05, .95))"
   ]
  },
  {
   "cell_type": "code",
   "execution_count": 319,
   "id": "dc22b089-02e7-48eb-8fa2-40e2e3801818",
   "metadata": {},
   "outputs": [],
   "source": [
    "X_train, X_test, y_train, y_test = train_test_split(X, y, random_state=0, test_size=1000, )"
   ]
  },
  {
   "cell_type": "code",
   "execution_count": 320,
   "id": "f7bf32c5-75e0-4418-bfae-58fe30af8ccd",
   "metadata": {},
   "outputs": [
    {
     "data": {
      "text/plain": [
       "(942, 58)"
      ]
     },
     "execution_count": 320,
     "metadata": {},
     "output_type": "execute_result"
    }
   ],
   "source": [
    "sum(y_test == 1), sum(y_test == 0)"
   ]
  },
  {
   "cell_type": "code",
   "execution_count": 321,
   "id": "c3c157c8-f499-4bdb-a288-5d9f6e4959fe",
   "metadata": {},
   "outputs": [
    {
     "data": {
      "text/plain": [
       "SVC(random_state=0)"
      ]
     },
     "execution_count": 321,
     "metadata": {},
     "output_type": "execute_result"
    }
   ],
   "source": [
    "# Treinar um classificador Support Vector Machines\n",
    "clf = SVC(random_state=0)\n",
    "clf.fit(X_train, y_train)"
   ]
  },
  {
   "cell_type": "code",
   "execution_count": 322,
   "id": "5485eb18-0e4f-492f-a80e-b394bc925581",
   "metadata": {},
   "outputs": [],
   "source": [
    "predictions = clf.predict(X_test)"
   ]
  },
  {
   "cell_type": "code",
   "execution_count": 323,
   "id": "42d8001d-38c8-46f9-b0c3-5eea1d9b501c",
   "metadata": {},
   "outputs": [
    {
     "data": {
      "image/png": "[encoded data removed]",
      "text/plain": [
       "<Figure size 432x288 with 2 Axes>"
      ]
     },
     "metadata": {
      "needs_background": "light"
     },
     "output_type": "display_data"
    }
   ],
   "source": [
    "cm = confusion_matrix(y_test, predictions, labels=clf.classes_)\n",
    "disp = ConfusionMatrixDisplay(confusion_matrix=cm)\n",
    "disp.plot()\n",
    "plt.show()"
   ]
  },
  {
   "cell_type": "code",
   "execution_count": 331,
   "id": "5d5f6794-a8f2-4b81-973b-06f9fc43a151",
   "metadata": {},
   "outputs": [
    {
     "data": {
      "text/plain": [
       "0.942"
      ]
     },
     "execution_count": 331,
     "metadata": {},
     "output_type": "execute_result"
    }
   ],
   "source": [
    "accuracy_score(predictions, y_test)"
   ]
  },
  {
   "cell_type": "code",
   "execution_count": 340,
   "id": "63e2f008-251f-4d27-88a4-a60eb39c5ada",
   "metadata": {},
   "outputs": [
    {
     "data": {
      "text/plain": [
       "0.017241379310344827"
      ]
     },
     "execution_count": 340,
     "metadata": {},
     "output_type": "execute_result"
    }
   ],
   "source": [
    "precision_score(predictions, y_test, pos_label=0)"
   ]
  },
  {
   "cell_type": "code",
   "execution_count": 339,
   "id": "e6d7bc8a-0755-4a14-a244-4391b995a4dd",
   "metadata": {},
   "outputs": [
    {
     "data": {
      "text/plain": [
       "0.5"
      ]
     },
     "execution_count": 339,
     "metadata": {},
     "output_type": "execute_result"
    }
   ],
   "source": [
    "recall_score(predictions, y_test, pos_label=0)"
   ]
  },
  {
   "cell_type": "code",
   "execution_count": 338,
   "id": "c02f971d-d8b6-4301-9725-5ed6ca00fc95",
   "metadata": {},
   "outputs": [
    {
     "data": {
      "text/plain": [
       "0.03333333333333333"
      ]
     },
     "execution_count": 338,
     "metadata": {},
     "output_type": "execute_result"
    }
   ],
   "source": [
    "f1_score(predictions, y_test, pos_label=0)"
   ]
  },
  {
   "cell_type": "code",
   "execution_count": null,
   "id": "060c2b28-788e-465c-a072-3f4757ea88d4",
   "metadata": {},
   "outputs": [],
   "source": []
  },
  {
   "cell_type": "code",
   "execution_count": null,
   "id": "1d688c74-5a7e-4c5b-9b19-9295e52eec8a",
   "metadata": {},
   "outputs": [],
   "source": []
  }
 ],
 "metadata": {
  "kernelspec": {
   "display_name": "Python 3 (ipykernel)",
   "language": "python",
   "name": "python3"
  },
  "language_info": {
   "codemirror_mode": {
    "name": "ipython",
    "version": 3
   },
   "file_extension": ".py",
   "mimetype": "text/x-python",
   "name": "python",
   "nbconvert_exporter": "python",
   "pygments_lexer": "ipython3",
   "version": "3.9.5"
  }
 },
 "nbformat": 4,
 "nbformat_minor": 5
}
