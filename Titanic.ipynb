{
 "cells": [
  {
   "cell_type": "markdown",
   "id": "f3cceacb-4355-4b77-beb6-71d4d67cab12",
   "metadata": {},
   "source": [
    "### Workflow\n",
    "\n",
    "\n",
    "1. Definição do problema\n",
    "2. Carregar dados de treinamento e test\n",
    "3. Preparar e limpar os dados\n",
    "4. Analisar, identificar padrões e explorar os dados\n",
    "5. Treinar o primeiro algoritmo de Machine Learning\n"
   ]
  },
  {
   "cell_type": "markdown",
   "id": "8ccab493-99ac-4d6c-bc01-91d397f3dc80",
   "metadata": {},
   "source": [
    "# Definição do problema\n",
    "\n",
    "A partir dos dados de quem sobreviveu e não sobreviveu ao desastre do Titanic em 15 de Abril de 1912, conseguimos criar um modelo que baseado nestes dados consegue indentificar padrões dos sobreviventes?\n"
   ]
  },
  {
   "cell_type": "code",
   "execution_count": 2,
   "id": "b53350d8-1753-4868-b89f-792a272c15a4",
   "metadata": {},
   "outputs": [],
   "source": [
    "# Análise de dados\n",
    "import pandas as pd\n",
    "import numpy as np\n",
    "import random as rnd\n",
    "\n",
    "# visualização\n",
    "import seaborn as sns\n",
    "import matplotlib.pyplot as plt\n",
    "%matplotlib inline\n",
    "\n",
    "# machine learning\n",
    "from sklearn.linear_model import LogisticRegression\n",
    "from sklearn.svm import SVC, LinearSVC\n",
    "from sklearn.ensemble import RandomForestClassifier\n",
    "from sklearn.neighbors import KNeighborsClassifier\n",
    "from sklearn.naive_bayes import GaussianNB\n",
    "from sklearn.linear_model import Perceptron\n",
    "from sklearn.linear_model import SGDClassifier\n",
    "from sklearn.tree import DecisionTreeClassifier"
   ]
  },
  {
   "cell_type": "code",
   "execution_count": 3,
   "id": "2f00350d-b8e5-4d40-8a65-b5655c18380d",
   "metadata": {},
   "outputs": [
    {
     "name": "stdout",
     "output_type": "stream",
     "text": [
      "mkdir: data: File exists\n",
      "dyld: Library not loaded: /usr/local/opt/openssl@1.1/lib/libssl.1.1.dylib\n",
      "  Referenced from: /usr/local/bin/wget\n",
      "  Reason: image not found\n",
      "dyld: Library not loaded: /usr/local/opt/openssl@1.1/lib/libssl.1.1.dylib\n",
      "  Referenced from: /usr/local/bin/wget\n",
      "  Reason: image not found\n"
     ]
    }
   ],
   "source": [
    "!mkdir data\n",
    "!wget -L https://raw.githubusercontent.com/pedrocwb/pos-fiep/master/data/test.csv -P data/\n",
    "!wget -L https://raw.githubusercontent.com/pedrocwb/pos-fiep/master/data/train.csv -P data/"
   ]
  },
  {
   "cell_type": "code",
   "execution_count": null,
   "id": "799b7291-dda7-4df2-8cb0-ad5b88538d47",
   "metadata": {},
   "outputs": [],
   "source": []
  },
  {
   "cell_type": "markdown",
   "id": "97e2f245-6a47-4dbe-988d-da42d5c26af5",
   "metadata": {},
   "source": [
    "# Carregamento dos dados\n",
    "\n",
    "Neste exercicio iremos carregar os dados de arquivos CSV, mas os dados podem vir de diversas outras fontes como bancos de dados relacionais,\n",
    "storages de dados não estruturados, podem ser videos ou imagens. Dependendo do tipo de dado precisaremos utilizar diferentes bibliotecas e \n",
    "APIs para carregar os dados em memória. \n"
   ]
  },
  {
   "cell_type": "code",
   "execution_count": 4,
   "id": "a57f9361-aef8-4faf-9827-c23cc18cc188",
   "metadata": {},
   "outputs": [],
   "source": [
    "train_df = pd.read_csv(\"data/train.csv\")\n",
    "test_df = pd.read_csv(\"data/test.csv\")"
   ]
  },
  {
   "cell_type": "code",
   "execution_count": null,
   "id": "da52cbbf-17ba-4158-8143-476c99e5263f",
   "metadata": {},
   "outputs": [],
   "source": []
  },
  {
   "cell_type": "markdown",
   "id": "a79dfbf3-29d9-4dbe-b927-2ca7ecd412a5",
   "metadata": {},
   "source": [
    "**Vamos visualizar como o dado está estruturado** "
   ]
  },
  {
   "cell_type": "code",
   "execution_count": 5,
   "id": "21aabf25-0b9c-4fde-8c38-200adae05f69",
   "metadata": {},
   "outputs": [
    {
     "data": {
      "text/html": [
       "<div>\n",
       "<style scoped>\n",
       "    .dataframe tbody tr th:only-of-type {\n",
       "        vertical-align: middle;\n",
       "    }\n",
       "\n",
       "    .dataframe tbody tr th {\n",
       "        vertical-align: top;\n",
       "    }\n",
       "\n",
       "    .dataframe thead th {\n",
       "        text-align: right;\n",
       "    }\n",
       "</style>\n",
       "<table border=\"1\" class=\"dataframe\">\n",
       "  <thead>\n",
       "    <tr style=\"text-align: right;\">\n",
       "      <th></th>\n",
       "      <th>PassengerId</th>\n",
       "      <th>Survived</th>\n",
       "      <th>Pclass</th>\n",
       "      <th>Name</th>\n",
       "      <th>Sex</th>\n",
       "      <th>Age</th>\n",
       "      <th>SibSp</th>\n",
       "      <th>Parch</th>\n",
       "      <th>Ticket</th>\n",
       "      <th>Fare</th>\n",
       "      <th>Cabin</th>\n",
       "      <th>Embarked</th>\n",
       "    </tr>\n",
       "  </thead>\n",
       "  <tbody>\n",
       "    <tr>\n",
       "      <th>0</th>\n",
       "      <td>1</td>\n",
       "      <td>0</td>\n",
       "      <td>3</td>\n",
       "      <td>Braund, Mr. Owen Harris</td>\n",
       "      <td>male</td>\n",
       "      <td>22.0</td>\n",
       "      <td>1</td>\n",
       "      <td>0</td>\n",
       "      <td>A/5 21171</td>\n",
       "      <td>7.2500</td>\n",
       "      <td>NaN</td>\n",
       "      <td>S</td>\n",
       "    </tr>\n",
       "    <tr>\n",
       "      <th>1</th>\n",
       "      <td>2</td>\n",
       "      <td>1</td>\n",
       "      <td>1</td>\n",
       "      <td>Cumings, Mrs. John Bradley (Florence Briggs Th...</td>\n",
       "      <td>female</td>\n",
       "      <td>38.0</td>\n",
       "      <td>1</td>\n",
       "      <td>0</td>\n",
       "      <td>PC 17599</td>\n",
       "      <td>71.2833</td>\n",
       "      <td>C85</td>\n",
       "      <td>C</td>\n",
       "    </tr>\n",
       "    <tr>\n",
       "      <th>2</th>\n",
       "      <td>3</td>\n",
       "      <td>1</td>\n",
       "      <td>3</td>\n",
       "      <td>Heikkinen, Miss. Laina</td>\n",
       "      <td>female</td>\n",
       "      <td>26.0</td>\n",
       "      <td>0</td>\n",
       "      <td>0</td>\n",
       "      <td>STON/O2. 3101282</td>\n",
       "      <td>7.9250</td>\n",
       "      <td>NaN</td>\n",
       "      <td>S</td>\n",
       "    </tr>\n",
       "    <tr>\n",
       "      <th>3</th>\n",
       "      <td>4</td>\n",
       "      <td>1</td>\n",
       "      <td>1</td>\n",
       "      <td>Futrelle, Mrs. Jacques Heath (Lily May Peel)</td>\n",
       "      <td>female</td>\n",
       "      <td>35.0</td>\n",
       "      <td>1</td>\n",
       "      <td>0</td>\n",
       "      <td>113803</td>\n",
       "      <td>53.1000</td>\n",
       "      <td>C123</td>\n",
       "      <td>S</td>\n",
       "    </tr>\n",
       "    <tr>\n",
       "      <th>4</th>\n",
       "      <td>5</td>\n",
       "      <td>0</td>\n",
       "      <td>3</td>\n",
       "      <td>Allen, Mr. William Henry</td>\n",
       "      <td>male</td>\n",
       "      <td>35.0</td>\n",
       "      <td>0</td>\n",
       "      <td>0</td>\n",
       "      <td>373450</td>\n",
       "      <td>8.0500</td>\n",
       "      <td>NaN</td>\n",
       "      <td>S</td>\n",
       "    </tr>\n",
       "  </tbody>\n",
       "</table>\n",
       "</div>"
      ],
      "text/plain": [
       "   PassengerId  Survived  Pclass  \\\n",
       "0            1         0       3   \n",
       "1            2         1       1   \n",
       "2            3         1       3   \n",
       "3            4         1       1   \n",
       "4            5         0       3   \n",
       "\n",
       "                                                Name     Sex   Age  SibSp  \\\n",
       "0                            Braund, Mr. Owen Harris    male  22.0      1   \n",
       "1  Cumings, Mrs. John Bradley (Florence Briggs Th...  female  38.0      1   \n",
       "2                             Heikkinen, Miss. Laina  female  26.0      0   \n",
       "3       Futrelle, Mrs. Jacques Heath (Lily May Peel)  female  35.0      1   \n",
       "4                           Allen, Mr. William Henry    male  35.0      0   \n",
       "\n",
       "   Parch            Ticket     Fare Cabin Embarked  \n",
       "0      0         A/5 21171   7.2500   NaN        S  \n",
       "1      0          PC 17599  71.2833   C85        C  \n",
       "2      0  STON/O2. 3101282   7.9250   NaN        S  \n",
       "3      0            113803  53.1000  C123        S  \n",
       "4      0            373450   8.0500   NaN        S  "
      ]
     },
     "execution_count": 5,
     "metadata": {},
     "output_type": "execute_result"
    }
   ],
   "source": [
    "train_df.head()"
   ]
  },
  {
   "cell_type": "code",
   "execution_count": 6,
   "id": "d508f273-d9d5-4090-9a0d-f2e20bceaa98",
   "metadata": {},
   "outputs": [
    {
     "data": {
      "text/html": [
       "<div>\n",
       "<style scoped>\n",
       "    .dataframe tbody tr th:only-of-type {\n",
       "        vertical-align: middle;\n",
       "    }\n",
       "\n",
       "    .dataframe tbody tr th {\n",
       "        vertical-align: top;\n",
       "    }\n",
       "\n",
       "    .dataframe thead th {\n",
       "        text-align: right;\n",
       "    }\n",
       "</style>\n",
       "<table border=\"1\" class=\"dataframe\">\n",
       "  <thead>\n",
       "    <tr style=\"text-align: right;\">\n",
       "      <th></th>\n",
       "      <th>PassengerId</th>\n",
       "      <th>Pclass</th>\n",
       "      <th>Name</th>\n",
       "      <th>Sex</th>\n",
       "      <th>Age</th>\n",
       "      <th>SibSp</th>\n",
       "      <th>Parch</th>\n",
       "      <th>Ticket</th>\n",
       "      <th>Fare</th>\n",
       "      <th>Cabin</th>\n",
       "      <th>Embarked</th>\n",
       "    </tr>\n",
       "  </thead>\n",
       "  <tbody>\n",
       "    <tr>\n",
       "      <th>0</th>\n",
       "      <td>892</td>\n",
       "      <td>3</td>\n",
       "      <td>Kelly, Mr. James</td>\n",
       "      <td>male</td>\n",
       "      <td>34.5</td>\n",
       "      <td>0</td>\n",
       "      <td>0</td>\n",
       "      <td>330911</td>\n",
       "      <td>7.8292</td>\n",
       "      <td>NaN</td>\n",
       "      <td>Q</td>\n",
       "    </tr>\n",
       "    <tr>\n",
       "      <th>1</th>\n",
       "      <td>893</td>\n",
       "      <td>3</td>\n",
       "      <td>Wilkes, Mrs. James (Ellen Needs)</td>\n",
       "      <td>female</td>\n",
       "      <td>47.0</td>\n",
       "      <td>1</td>\n",
       "      <td>0</td>\n",
       "      <td>363272</td>\n",
       "      <td>7.0000</td>\n",
       "      <td>NaN</td>\n",
       "      <td>S</td>\n",
       "    </tr>\n",
       "    <tr>\n",
       "      <th>2</th>\n",
       "      <td>894</td>\n",
       "      <td>2</td>\n",
       "      <td>Myles, Mr. Thomas Francis</td>\n",
       "      <td>male</td>\n",
       "      <td>62.0</td>\n",
       "      <td>0</td>\n",
       "      <td>0</td>\n",
       "      <td>240276</td>\n",
       "      <td>9.6875</td>\n",
       "      <td>NaN</td>\n",
       "      <td>Q</td>\n",
       "    </tr>\n",
       "    <tr>\n",
       "      <th>3</th>\n",
       "      <td>895</td>\n",
       "      <td>3</td>\n",
       "      <td>Wirz, Mr. Albert</td>\n",
       "      <td>male</td>\n",
       "      <td>27.0</td>\n",
       "      <td>0</td>\n",
       "      <td>0</td>\n",
       "      <td>315154</td>\n",
       "      <td>8.6625</td>\n",
       "      <td>NaN</td>\n",
       "      <td>S</td>\n",
       "    </tr>\n",
       "    <tr>\n",
       "      <th>4</th>\n",
       "      <td>896</td>\n",
       "      <td>3</td>\n",
       "      <td>Hirvonen, Mrs. Alexander (Helga E Lindqvist)</td>\n",
       "      <td>female</td>\n",
       "      <td>22.0</td>\n",
       "      <td>1</td>\n",
       "      <td>1</td>\n",
       "      <td>3101298</td>\n",
       "      <td>12.2875</td>\n",
       "      <td>NaN</td>\n",
       "      <td>S</td>\n",
       "    </tr>\n",
       "  </tbody>\n",
       "</table>\n",
       "</div>"
      ],
      "text/plain": [
       "   PassengerId  Pclass                                          Name     Sex  \\\n",
       "0          892       3                              Kelly, Mr. James    male   \n",
       "1          893       3              Wilkes, Mrs. James (Ellen Needs)  female   \n",
       "2          894       2                     Myles, Mr. Thomas Francis    male   \n",
       "3          895       3                              Wirz, Mr. Albert    male   \n",
       "4          896       3  Hirvonen, Mrs. Alexander (Helga E Lindqvist)  female   \n",
       "\n",
       "    Age  SibSp  Parch   Ticket     Fare Cabin Embarked  \n",
       "0  34.5      0      0   330911   7.8292   NaN        Q  \n",
       "1  47.0      1      0   363272   7.0000   NaN        S  \n",
       "2  62.0      0      0   240276   9.6875   NaN        Q  \n",
       "3  27.0      0      0   315154   8.6625   NaN        S  \n",
       "4  22.0      1      1  3101298  12.2875   NaN        S  "
      ]
     },
     "execution_count": 6,
     "metadata": {},
     "output_type": "execute_result"
    }
   ],
   "source": [
    "test_df.head()"
   ]
  },
  {
   "cell_type": "markdown",
   "id": "075a7326-9ff0-46f9-b2a1-cce5c19fbeab",
   "metadata": {},
   "source": [
    "**Quais são os tipo das caracateristicas? (Inteiro, String)**"
   ]
  },
  {
   "cell_type": "code",
   "execution_count": 7,
   "id": "3f781025-0e26-4e41-b31e-821828cf2c7a",
   "metadata": {},
   "outputs": [
    {
     "name": "stdout",
     "output_type": "stream",
     "text": [
      "<class 'pandas.core.frame.DataFrame'>\n",
      "RangeIndex: 891 entries, 0 to 890\n",
      "Data columns (total 12 columns):\n",
      " #   Column       Non-Null Count  Dtype  \n",
      "---  ------       --------------  -----  \n",
      " 0   PassengerId  891 non-null    int64  \n",
      " 1   Survived     891 non-null    int64  \n",
      " 2   Pclass       891 non-null    int64  \n",
      " 3   Name         891 non-null    object \n",
      " 4   Sex          891 non-null    object \n",
      " 5   Age          714 non-null    float64\n",
      " 6   SibSp        891 non-null    int64  \n",
      " 7   Parch        891 non-null    int64  \n",
      " 8   Ticket       891 non-null    object \n",
      " 9   Fare         891 non-null    float64\n",
      " 10  Cabin        204 non-null    object \n",
      " 11  Embarked     889 non-null    object \n",
      "dtypes: float64(2), int64(5), object(5)\n",
      "memory usage: 83.7+ KB\n"
     ]
    }
   ],
   "source": [
    "train_df.info()"
   ]
  },
  {
   "cell_type": "code",
   "execution_count": null,
   "id": "a412d2ce-1520-4771-b5f9-08b083158915",
   "metadata": {},
   "outputs": [],
   "source": []
  },
  {
   "cell_type": "markdown",
   "id": "8e038a11-268e-4fbd-925d-335f2a80c01d",
   "metadata": {},
   "source": [
    "**Qual é a distribuição dos variáveis númericas no nosso dataset?**\n",
    "Esse tipo de informação pode nos fornecer alguns insights iniciais para a resolução do nosso problema.\n"
   ]
  },
  {
   "cell_type": "code",
   "execution_count": null,
   "id": "e3faf4e6-e39e-4d11-a8d1-d3e41be6fbdb",
   "metadata": {},
   "outputs": [],
   "source": [
    "train_df.describe()"
   ]
  },
  {
   "cell_type": "code",
   "execution_count": null,
   "id": "64cd30b1-bfd8-4131-97f9-0efc5c783ffd",
   "metadata": {},
   "outputs": [],
   "source": []
  },
  {
   "cell_type": "markdown",
   "id": "56a00161-a331-4b90-b020-7278df560ebb",
   "metadata": {},
   "source": [
    "Média de passageiros que sobreviveram por cada Classe"
   ]
  },
  {
   "cell_type": "code",
   "execution_count": null,
   "id": "8ca17df8-194e-42e4-932d-a1d32e149992",
   "metadata": {},
   "outputs": [],
   "source": [
    "(\n",
    " train_df[['Pclass', 'Survived']]\n",
    "    .groupby(['Pclass'], as_index=False)\n",
    "    .mean()\n",
    "    .sort_values(by='Survived', ascending=False)\n",
    ")"
   ]
  },
  {
   "cell_type": "markdown",
   "id": "259b0af4-ad07-4bde-ae6b-dc81891a6687",
   "metadata": {},
   "source": [
    "média de passageiros que sobreviveram por sexo"
   ]
  },
  {
   "cell_type": "code",
   "execution_count": null,
   "id": "7365fcd6-7b1b-46f2-8f43-dd95af9f5976",
   "metadata": {},
   "outputs": [],
   "source": [
    "(\n",
    "    train_df[[\"Sex\", \"Survived\"]]\n",
    "        .groupby(['Sex'], as_index=False)\n",
    "        .mean()\n",
    "        .sort_values(by='Survived', ascending=False)\n",
    ")"
   ]
  },
  {
   "cell_type": "markdown",
   "id": "e9408121-5ab3-40b9-8b8a-c3df77672c9c",
   "metadata": {},
   "source": [
    "Média de passageiros que sobreviveram dado a quantidade de irmãos/companheiros abordo (sibsp)"
   ]
  },
  {
   "cell_type": "code",
   "execution_count": 1,
   "id": "537eb583-c975-4240-b7f2-d3829ef092e9",
   "metadata": {},
   "outputs": [
    {
     "ename": "NameError",
     "evalue": "name 'train_df' is not defined",
     "output_type": "error",
     "traceback": [
      "\u001b[0;31m---------------------------------------------------------------------------\u001b[0m",
      "\u001b[0;31mNameError\u001b[0m                                 Traceback (most recent call last)",
      "\u001b[0;32m/var/folders/rd/m9yc5w7d1573qy221g2pwxrh0000gp/T/ipykernel_32853/3595627334.py\u001b[0m in \u001b[0;36m<module>\u001b[0;34m\u001b[0m\n\u001b[1;32m      1\u001b[0m (\n\u001b[0;32m----> 2\u001b[0;31m     \u001b[0mtrain_df\u001b[0m\u001b[0;34m[\u001b[0m\u001b[0;34m[\u001b[0m\u001b[0;34m\"SibSp\"\u001b[0m\u001b[0;34m,\u001b[0m \u001b[0;34m\"Survived\"\u001b[0m\u001b[0;34m]\u001b[0m\u001b[0;34m]\u001b[0m\u001b[0;34m\u001b[0m\u001b[0;34m\u001b[0m\u001b[0m\n\u001b[0m\u001b[1;32m      3\u001b[0m         \u001b[0;34m.\u001b[0m\u001b[0mgroupby\u001b[0m\u001b[0;34m(\u001b[0m\u001b[0;34m[\u001b[0m\u001b[0;34m'SibSp'\u001b[0m\u001b[0;34m]\u001b[0m\u001b[0;34m,\u001b[0m \u001b[0mas_index\u001b[0m\u001b[0;34m=\u001b[0m\u001b[0;32mFalse\u001b[0m\u001b[0;34m)\u001b[0m\u001b[0;34m\u001b[0m\u001b[0;34m\u001b[0m\u001b[0m\n\u001b[1;32m      4\u001b[0m         \u001b[0;34m.\u001b[0m\u001b[0mmean\u001b[0m\u001b[0;34m(\u001b[0m\u001b[0;34m)\u001b[0m\u001b[0;34m\u001b[0m\u001b[0;34m\u001b[0m\u001b[0m\n\u001b[1;32m      5\u001b[0m         \u001b[0;34m.\u001b[0m\u001b[0msort_values\u001b[0m\u001b[0;34m(\u001b[0m\u001b[0mby\u001b[0m\u001b[0;34m=\u001b[0m\u001b[0;34m'Survived'\u001b[0m\u001b[0;34m,\u001b[0m \u001b[0mascending\u001b[0m\u001b[0;34m=\u001b[0m\u001b[0;32mFalse\u001b[0m\u001b[0;34m)\u001b[0m\u001b[0;34m\u001b[0m\u001b[0;34m\u001b[0m\u001b[0m\n",
      "\u001b[0;31mNameError\u001b[0m: name 'train_df' is not defined"
     ]
    }
   ],
   "source": [
    "(\n",
    "    train_df[[\"SibSp\", \"Survived\"]]\n",
    "        .groupby(['SibSp'], as_index=False)\n",
    "        .mean()\n",
    "        .sort_values(by='Survived', ascending=False)\n",
    ")"
   ]
  },
  {
   "cell_type": "code",
   "execution_count": null,
   "id": "4d618ed3-0651-4b2e-aed4-17998c026ed9",
   "metadata": {},
   "outputs": [],
   "source": []
  },
  {
   "cell_type": "markdown",
   "id": "14d3d9ce-5068-4457-a776-3b0e2765c09d",
   "metadata": {},
   "source": [
    "Média de passageiros que sobreviveram dado a quantidade de Pais/criancas pequenas abordo (parch)"
   ]
  },
  {
   "cell_type": "code",
   "execution_count": null,
   "id": "8f63117c-1566-4b1e-93da-640b15eab654",
   "metadata": {},
   "outputs": [],
   "source": [
    "# Seu código aqui"
   ]
  },
  {
   "cell_type": "code",
   "execution_count": null,
   "id": "39876f9c-fec1-404b-af2d-0b8662c6d872",
   "metadata": {},
   "outputs": [],
   "source": []
  },
  {
   "cell_type": "markdown",
   "id": "8428673d-d64a-41b0-be5a-5a4560c03763",
   "metadata": {},
   "source": [
    "### Analisando os dados através de visualização"
   ]
  },
  {
   "cell_type": "code",
   "execution_count": null,
   "id": "bd6b5c8b-eaa7-40c6-ace5-80886c38f61b",
   "metadata": {},
   "outputs": [],
   "source": [
    "g = train_df[[\"Age\"]].boxplot()\n",
    "_ = g.set_title(\"Distribuição da idade dos passageiros\")"
   ]
  },
  {
   "cell_type": "markdown",
   "id": "19fe9528-32ab-41f3-8748-c6e7a273c22c",
   "metadata": {},
   "source": [
    "### Faça o boxplot da distribuição dos preços presentes no train_df"
   ]
  },
  {
   "cell_type": "code",
   "execution_count": null,
   "id": "8b91de95-655f-4f2d-b4b0-424511a0f3e4",
   "metadata": {},
   "outputs": [],
   "source": [
    "#Seu código aqui\n",
    "\n"
   ]
  },
  {
   "cell_type": "code",
   "execution_count": null,
   "id": "6ef37fdf-f28f-4e09-99bc-22fd29d5aefc",
   "metadata": {},
   "outputs": [],
   "source": []
  },
  {
   "cell_type": "markdown",
   "id": "5d179bf8-fdb1-4953-9e09-a78cffa01559",
   "metadata": {},
   "source": [
    "#### Correlacionar as variáveis numéricas"
   ]
  },
  {
   "cell_type": "code",
   "execution_count": null,
   "id": "5c060d15-06f5-4d0f-bd04-16c3b601e641",
   "metadata": {},
   "outputs": [],
   "source": [
    "g = sns.FacetGrid(train_df, col='Survived')\n",
    "g.map(plt.hist, 'Age', bins=20)"
   ]
  },
  {
   "cell_type": "markdown",
   "id": "8e8b4037-7913-4d19-97dd-d2f881d7ef38",
   "metadata": {},
   "source": [
    "- As crianças tiverem uma melhor taxa de sobrevivencia?\n",
    "- Devemos considerar a variável idade no nosso modelo?"
   ]
  },
  {
   "cell_type": "code",
   "execution_count": null,
   "id": "4d59afd9-151d-4535-a83d-14d38ed6fe16",
   "metadata": {},
   "outputs": [],
   "source": []
  },
  {
   "cell_type": "markdown",
   "id": "29ee5357-3225-447b-9d5d-9795b0dc4574",
   "metadata": {},
   "source": [
    "Faça o mesmo gráfico acima para a variável Fare"
   ]
  },
  {
   "cell_type": "code",
   "execution_count": null,
   "id": "7c0d163d-908f-4231-b370-2d890d0fddf8",
   "metadata": {},
   "outputs": [],
   "source": [
    "# Seu código aqui"
   ]
  },
  {
   "cell_type": "code",
   "execution_count": null,
   "id": "389f19a9-73a9-44a2-9eb8-525da6f92392",
   "metadata": {},
   "outputs": [],
   "source": []
  },
  {
   "cell_type": "markdown",
   "id": "d1c441a4-1a10-4fcb-9e71-ec20dbd2779e",
   "metadata": {},
   "source": [
    "### Correlacionando as variáveis ordinais"
   ]
  },
  {
   "cell_type": "code",
   "execution_count": null,
   "id": "522dc76b-b3a5-4017-b5b7-495617d42f57",
   "metadata": {},
   "outputs": [],
   "source": [
    "grid = sns.FacetGrid(train_df, col='Survived', row='Pclass', height=2.2, aspect=1.6)\n",
    "grid.map(plt.hist, 'Age', alpha=.5, bins=20);\n",
    "grid.add_legend();"
   ]
  },
  {
   "cell_type": "markdown",
   "id": "35486f6e-7c58-41fe-adc6-11c2bb633f90",
   "metadata": {},
   "source": [
    "Devemos considerar essa variável para o nosso modelo?"
   ]
  },
  {
   "cell_type": "code",
   "execution_count": null,
   "id": "2554edad-280f-40f7-a27f-b56067cae426",
   "metadata": {},
   "outputs": [],
   "source": []
  },
  {
   "cell_type": "code",
   "execution_count": null,
   "id": "d9eccf18-6532-471b-aadc-19bdac744011",
   "metadata": {},
   "outputs": [],
   "source": []
  },
  {
   "cell_type": "markdown",
   "id": "52af62bc-3872-4e39-ad27-3c51e55b40aa",
   "metadata": {},
   "source": [
    "Taxa de sobrevivencia por sexo, classe e portão de embarque\n",
    "\n",
    "(C = Cherbourg; Q = Queenstown; S = Southampton)"
   ]
  },
  {
   "cell_type": "code",
   "execution_count": null,
   "id": "11fd5275-d23c-4427-bd97-943574bdecb1",
   "metadata": {},
   "outputs": [],
   "source": [
    "grid = sns.FacetGrid(train_df, row='Embarked', height=2.8, aspect=2.6)\n",
    "grid.map(sns.pointplot, 'Pclass', 'Survived', 'Sex', palette='deep',)\n",
    "grid.add_legend();"
   ]
  },
  {
   "cell_type": "markdown",
   "id": "078a7067-5830-403f-85d7-c1a272874fcf",
   "metadata": {},
   "source": [
    "Devemos considerar a variável Sexo e Portão de Embarque em nosso Modelo?"
   ]
  },
  {
   "cell_type": "code",
   "execution_count": null,
   "id": "2def2398-f1fa-4398-b183-ab122ddcadcb",
   "metadata": {},
   "outputs": [],
   "source": []
  },
  {
   "cell_type": "markdown",
   "id": "e34fee89-a07a-409f-9e00-3f486e22dd3a",
   "metadata": {},
   "source": [
    " ### Correlacionando variáveis categóricas e numéricas"
   ]
  },
  {
   "cell_type": "code",
   "execution_count": null,
   "id": "c2b27f95-a37d-44c0-b044-b08aa247072a",
   "metadata": {},
   "outputs": [],
   "source": [
    "grid = sns.FacetGrid(train_df, row='Embarked', col='Survived', size=2.2, aspect=1.6)\n",
    "grid.map(sns.barplot, 'Sex', 'Fare', alpha=.5, ci=None)\n",
    "grid.add_legend();\n"
   ]
  },
  {
   "cell_type": "code",
   "execution_count": null,
   "id": "d56a1434-4fad-41bf-968f-f53cb9cea721",
   "metadata": {},
   "outputs": [],
   "source": []
  },
  {
   "cell_type": "markdown",
   "id": "7835e82f-3305-4ca3-8d6e-f5353d895f0a",
   "metadata": {},
   "source": [
    "### Feature Engineering\n",
    "\n",
    "Feature engineering é o termo utilizado para definir um conjunto de técnicas utilizado na criação e manipulação de features (recursos), tendo como objetivo desenvolver um bom modelo de aprendizado de máquina.Você também pode conhecer essa etapa como pré-processamento de dados, embora muitos entendam o feature engineering faça parte dele. Essa é uma das fases mais importantes do processo de construção de um modelo preditivo. \n",
    "\n",
    "Porém, feature engineering não se trata apenas de selecionar bons recursos para um modelo. Esse processo também abrange a transformação matemática nas features existentes para extrair o máximo potencial dos dados e criação de novas features. Neste artigo vou trazer as técnicas mais utilizadas."
   ]
  },
  {
   "cell_type": "code",
   "execution_count": null,
   "id": "dc12f668-bef0-464c-a675-83f1bb55fdc3",
   "metadata": {},
   "outputs": [],
   "source": []
  },
  {
   "cell_type": "markdown",
   "id": "1473f8b0-42cc-46b8-8c41-8dd5f038d329",
   "metadata": {},
   "source": [
    "#### Remover variáveis com poucas observações ou que não possuem um significado para o modelo\n",
    "\n"
   ]
  },
  {
   "cell_type": "code",
   "execution_count": null,
   "id": "934d3e01-0f8c-4f28-b6b7-2d8e20fa7d70",
   "metadata": {},
   "outputs": [],
   "source": [
    "train_df[\"Ticket\"].head()"
   ]
  },
  {
   "cell_type": "code",
   "execution_count": null,
   "id": "5e2443db-ac42-449d-bf57-11df25e4243b",
   "metadata": {},
   "outputs": [],
   "source": [
    "train_df[\"Cabin\"].head()"
   ]
  },
  {
   "cell_type": "markdown",
   "id": "52079340-a32d-464f-81dc-781823e34eae",
   "metadata": {},
   "source": [
    "Taxa de valores nulos na variável Cabin"
   ]
  },
  {
   "cell_type": "code",
   "execution_count": null,
   "id": "8aa2beba-497b-43af-a4d7-c433349dfae2",
   "metadata": {},
   "outputs": [],
   "source": [
    "train_df[\"Cabin\"].isnull().sum() / train_df.shape[0]"
   ]
  },
  {
   "cell_type": "markdown",
   "id": "72a8b88b-e1b2-4556-8d20-3e2095d7f83d",
   "metadata": {},
   "source": [
    "Removendo as variáveis Ticket e Cabin"
   ]
  },
  {
   "cell_type": "code",
   "execution_count": null,
   "id": "7333a4ed-4dfa-41a5-aba8-6e78936cafc4",
   "metadata": {},
   "outputs": [],
   "source": [
    "print(\"Antes\", train_df.shape, test_df.shape)"
   ]
  },
  {
   "cell_type": "code",
   "execution_count": null,
   "id": "4999aa76-837a-4ce0-82e5-9272418d14d8",
   "metadata": {},
   "outputs": [],
   "source": [
    "train_df = train_df.drop(['Ticket', 'Cabin'], axis=1)\n",
    "test_df = test_df.drop(['Ticket', 'Cabin'], axis=1)"
   ]
  },
  {
   "cell_type": "code",
   "execution_count": null,
   "id": "05c8a581-e826-4736-8ed2-287b6e0ef3ac",
   "metadata": {},
   "outputs": [],
   "source": [
    "print(\"Depois\", train_df.shape, test_df.shape)"
   ]
  },
  {
   "cell_type": "markdown",
   "id": "bbb5e992-6382-4906-9199-c9f417302481",
   "metadata": {},
   "source": [
    "### Criando novas caracteristicas a partir das existentes"
   ]
  },
  {
   "cell_type": "code",
   "execution_count": null,
   "id": "23029bda-eaa6-4ef9-97a7-8cfcef3c36cd",
   "metadata": {},
   "outputs": [],
   "source": [
    "train_df[\"Name\"]"
   ]
  },
  {
   "cell_type": "markdown",
   "id": "2a1c1e75-9996-45a9-b69f-cf28f1b460fc",
   "metadata": {},
   "source": [
    "Extrair o titulo de cada pessoa pode trazer mais informacoes para o nosso modelo"
   ]
  },
  {
   "cell_type": "code",
   "execution_count": null,
   "id": "13057692-2ead-4d80-930d-2a814dade839",
   "metadata": {},
   "outputs": [],
   "source": []
  },
  {
   "cell_type": "code",
   "execution_count": null,
   "id": "f905b17a-4d10-45dc-a7a7-f3f8f838808e",
   "metadata": {},
   "outputs": [],
   "source": [
    "for dataset in [train_df, test_df]:\n",
    "    dataset['Title'] = dataset.Name.str.extract(' ([A-Za-z]+)\\.', expand=False)"
   ]
  },
  {
   "cell_type": "code",
   "execution_count": null,
   "id": "1c4a195c-d473-45e1-b43d-5981dbd2de73",
   "metadata": {},
   "outputs": [],
   "source": [
    "pd.crosstab(train_df['Title'], train_df['Sex'])"
   ]
  },
  {
   "cell_type": "markdown",
   "id": "518b3f77-d6cf-44df-8ae9-1544cc166c26",
   "metadata": {},
   "source": [
    "Podemos substituir muitos titulos com um nome mais comum ou classificar eles como raros"
   ]
  },
  {
   "cell_type": "code",
   "execution_count": null,
   "id": "262bf302-7968-484e-9efe-123cc6a3a888",
   "metadata": {},
   "outputs": [],
   "source": [
    "for dataset in [train_df, test_df]:\n",
    "    dataset['Title'] = \\\n",
    "        dataset['Title']\\\n",
    "            .replace(\n",
    "                ['Lady', 'Countess','Capt', 'Col','Don', 'Dr', \n",
    "                'Major', 'Rev', 'Sir', 'Jonkheer', 'Dona'], \n",
    "            'Rare')\n",
    "\n",
    "    dataset['Title'] = dataset['Title'].replace('Mlle', 'Miss')\n",
    "    dataset['Title'] = dataset['Title'].replace('Ms', 'Miss')\n",
    "    dataset['Title'] = dataset['Title'].replace('Mme', 'Mrs')\n",
    "    \n",
    "train_df[['Title', 'Survived']].groupby(['Title'], as_index=False).mean()"
   ]
  },
  {
   "cell_type": "markdown",
   "id": "ab302484-abe1-4f28-91af-2e354d714bb1",
   "metadata": {},
   "source": [
    "E por fim vamos mapear estes titulos para números ordinais"
   ]
  },
  {
   "cell_type": "code",
   "execution_count": null,
   "id": "b68314bc-38d2-4271-bc5d-74b7328184b8",
   "metadata": {},
   "outputs": [],
   "source": [
    "title_mapping = {\"Mr\": 1, \"Miss\": 2, \"Mrs\": 3, \"Master\": 4, \"Rare\": 5}\n",
    "for dataset in [train_df, test_df]:\n",
    "    dataset['Title'] = dataset['Title'].map(title_mapping)\n",
    "    dataset['Title'] = dataset['Title'].fillna(0)\n",
    "\n",
    "train_df.head()"
   ]
  },
  {
   "cell_type": "code",
   "execution_count": null,
   "id": "f0893381-b3b1-4cbb-a986-12996bb7e73a",
   "metadata": {},
   "outputs": [],
   "source": []
  },
  {
   "cell_type": "markdown",
   "id": "a250d243-e0d5-4ddd-a73c-712ddf3ae75f",
   "metadata": {},
   "source": [
    "Feito isso podemos remover os as colunas Name e Passagener ID"
   ]
  },
  {
   "cell_type": "code",
   "execution_count": null,
   "id": "02af4a11-c62c-43ec-8269-cf8816ed21a4",
   "metadata": {},
   "outputs": [],
   "source": [
    "train_df = train_df.drop(['Name', 'PassengerId'], axis=1)\n",
    "test_df = test_df.drop(['Name'], axis=1)\n",
    "train_df.shape, test_df.shape"
   ]
  },
  {
   "cell_type": "code",
   "execution_count": null,
   "id": "7e0b96ce-a66f-4832-823b-b53fe13952ce",
   "metadata": {},
   "outputs": [],
   "source": []
  },
  {
   "cell_type": "markdown",
   "id": "5ef3ff34-d2fb-43e6-b281-28a5011ff7fa",
   "metadata": {},
   "source": [
    "#### Vamos agora converter as variávies que são texto para numéricos"
   ]
  },
  {
   "cell_type": "markdown",
   "id": "c3425be9-07e2-4bb0-927c-ad64810f93bf",
   "metadata": {},
   "source": [
    "Vamos converter a variável **Embarked** para numérica. Para isso precisamos \n",
    "preencher os valores nulos presente no dataset. \n",
    "\n",
    "(C = Cherbourg; Q = Queenstown; S = Southampton)"
   ]
  },
  {
   "cell_type": "code",
   "execution_count": null,
   "id": "1b63f4e7-d352-4789-9e5b-7430d1709ef7",
   "metadata": {},
   "outputs": [],
   "source": [
    "# porto mais frequente\n",
    "freq_port = train_df.Embarked.dropna().mode()[0]\n",
    "freq_port"
   ]
  },
  {
   "cell_type": "code",
   "execution_count": null,
   "id": "ae3f205f-040e-4635-bcf2-8eb25243f6aa",
   "metadata": {},
   "outputs": [],
   "source": [
    "for dataset in [train_df, test_df]:\n",
    "    dataset['Embarked'] = dataset['Embarked'].fillna(freq_port)\n",
    "    \n",
    "(train_df[['Embarked', 'Survived']]\n",
    "    .groupby(['Embarked'], as_index=False)\n",
    "    .mean().sort_values(by='Survived', ascending=False))"
   ]
  },
  {
   "cell_type": "code",
   "execution_count": null,
   "id": "8322d4d2-c11a-4f85-b91d-851a0e521511",
   "metadata": {},
   "outputs": [],
   "source": [
    "for dataset in [train_df, test_df]:\n",
    "    dataset['Embarked'] = dataset['Embarked'].map( {'S': 0, 'C': 1, 'Q': 2} ).astype(int)\n",
    "\n",
    "train_df.head()"
   ]
  },
  {
   "cell_type": "markdown",
   "id": "5435bb07-1451-488f-9420-f54bb004a8df",
   "metadata": {},
   "source": [
    "Agora vc! Converta a variável Sex para numérica da mesma maneira como fizemos acima. "
   ]
  },
  {
   "cell_type": "code",
   "execution_count": null,
   "id": "1a8dfdd4-bdc3-46cc-80f1-8568a08366e0",
   "metadata": {},
   "outputs": [],
   "source": [
    "# Seu código aqui"
   ]
  },
  {
   "cell_type": "markdown",
   "id": "ec0c6614-5b39-467a-be0f-4c8d9b8dc413",
   "metadata": {},
   "source": [
    "#### Vamos completar as variáveis numéricas continuas"
   ]
  },
  {
   "cell_type": "code",
   "execution_count": null,
   "id": "a0770ffc-3586-43d9-9324-300b7042fc18",
   "metadata": {},
   "outputs": [],
   "source": [
    "train_df[\"Age\"].isna().sum() / train_df.shape[0]"
   ]
  },
  {
   "cell_type": "markdown",
   "id": "84b41efb-924c-4258-bdf7-6087f515ccd3",
   "metadata": {},
   "source": [
    "- ~20% dos nossos dados não possuem o dado idade. Será que conseguimos \"chutar\" uma idade para esses passageiros?\n",
    "\n",
    "\n",
    "Existe algumas estratégias de **Imputation** que podemos usar aqui\n",
    "\n",
    "    1. Gerar valores aleatories baseado numa média e desvio padrão\n",
    "    2. Uma maneira mais acurada de gerar estes valores é observar outras variáveis que se correlacionam com o a variável idade. No nosso caso, notamos uma correlação entre Idade, Genero e PClass (classe). Podemos gerar valores mais próximos aos reais se nos valermos destas correlacoes.\n"
   ]
  },
  {
   "cell_type": "code",
   "execution_count": null,
   "id": "9d16d41b-f1d2-44ea-98f1-1b7b2618ce2a",
   "metadata": {},
   "outputs": [],
   "source": [
    "grid = sns.FacetGrid(train_df, row='Pclass', col='Sex', size=2.2, aspect=1.6)\n",
    "grid.map(plt.hist, 'Age', alpha=.5, bins=20)\n",
    "grid.add_legend();"
   ]
  },
  {
   "cell_type": "code",
   "execution_count": null,
   "id": "7b1c7d84-ab2f-481f-9946-8934cfede44f",
   "metadata": {},
   "outputs": [],
   "source": []
  },
  {
   "cell_type": "code",
   "execution_count": null,
   "id": "c188d2b8-edb4-4642-9935-0f0c37788eb0",
   "metadata": {},
   "outputs": [],
   "source": [
    "idades = np.zeros((2,3))\n",
    "idades"
   ]
  },
  {
   "cell_type": "code",
   "execution_count": null,
   "id": "61ef45f0-c09c-4243-b7cd-23daff868192",
   "metadata": {},
   "outputs": [],
   "source": [
    "for dataset in [train_df, test_df]:\n",
    "    for i in range(0, 2):\n",
    "        for j in range(0, 3):\n",
    "            guess_df = dataset[(dataset['Sex'] == i) & \\\n",
    "                                  (dataset['Pclass'] == j+1)]['Age'].dropna()\n",
    "\n",
    "            age_guess = guess_df.median()\n",
    "\n",
    "            # Convert random age float to nearest .5 age\n",
    "            idades[i,j] = int( age_guess/0.5 + 0.5 ) * 0.5\n",
    "            \n",
    "    for i in range(0, 2):\n",
    "        for j in range(0, 3):\n",
    "            dataset.loc[ \n",
    "                    (dataset.Age.isnull()) & (dataset.Sex == i) & (dataset.Pclass == j+1),'Age'] = idades[i,j]\n",
    "\n",
    "    dataset['Age'] = dataset['Age'].astype(int)\n",
    "\n",
    "train_df.head()"
   ]
  },
  {
   "cell_type": "markdown",
   "id": "fddafe43-5621-4702-8847-23bf74dddd4f",
   "metadata": {},
   "source": [
    "Vamos agora fazer o binning da idade, ou seja, ao invés de usar a variável idade continua vamos discretiza-la em alguns intervalos"
   ]
  },
  {
   "cell_type": "code",
   "execution_count": null,
   "id": "e2e6d84a-6857-479b-bd07-dec66659e131",
   "metadata": {},
   "outputs": [],
   "source": [
    "train_df['AgeBand'] = pd.cut(train_df['Age'], 5)\n",
    "(train_df[['AgeBand', 'Survived']]\n",
    "     .groupby(['AgeBand'], as_index=False)\n",
    "     .mean()\n",
    "     .sort_values(by='AgeBand', ascending=True)\n",
    ")"
   ]
  },
  {
   "cell_type": "code",
   "execution_count": null,
   "id": "ce87792a-6235-44ae-80f7-b0a4b79439cd",
   "metadata": {},
   "outputs": [],
   "source": [
    "for dataset in [train_df, test_df]:    \n",
    "    dataset.loc[ dataset['Age'] <= 16, 'Age'] = 0\n",
    "    dataset.loc[(dataset['Age'] > 16) & (dataset['Age'] <= 32), 'Age'] = 1\n",
    "    dataset.loc[(dataset['Age'] > 32) & (dataset['Age'] <= 48), 'Age'] = 2\n",
    "    dataset.loc[(dataset['Age'] > 48) & (dataset['Age'] <= 64), 'Age'] = 3\n",
    "    dataset.loc[ dataset['Age'] > 64, 'Age']\n",
    "train_df.head()"
   ]
  },
  {
   "cell_type": "code",
   "execution_count": null,
   "id": "b2425e89-8526-46fb-a85f-fd7c4078588f",
   "metadata": {},
   "outputs": [],
   "source": [
    "train_df = train_df.drop(['AgeBand'], axis=1)\n",
    "combine = [train_df, test_df]\n",
    "train_df.head()"
   ]
  },
  {
   "cell_type": "markdown",
   "id": "6de0e979-7c5e-450b-9698-c55211725cfb",
   "metadata": {},
   "source": []
  },
  {
   "cell_type": "markdown",
   "id": "d44dfe13-2bbf-442a-a758-b920116be982",
   "metadata": {},
   "source": []
  },
  {
   "cell_type": "markdown",
   "id": "00160a17-9651-46a6-a0fe-80652c1a2acb",
   "metadata": {},
   "source": []
  },
  {
   "cell_type": "markdown",
   "id": "a0c5ebda-285e-40fb-b0b1-eb3a35754491",
   "metadata": {},
   "source": [
    "### Treinar Modelo de Machine Learning\n",
    "\n",
    "\n",
    "\n",
    "Agora que preparamos os nossos dados, podemos escolher entre os mais de 60 algoritmos de machine learning existensta para resolver o nosso problema. No entanto, devemos entender o tipo de problema que temos para podemos escolher os algoritmos certos. \n",
    "\n",
    "Nosso problema é um problema de classificação e regressão. Queremos identificar a relação entre a o output (Survived) com as outras variáveis (Gender, Age, PClass...). Estamos também lidando com um uma categoria de machine learning chamado aprendizagem supervisionada - uma vez que estamos treinando nosso modelo com um dataset de treinamento.\n",
    "\n",
    "Dado que o nosso problema é um problema de Classificação e Regressão de forma supervisonada podemos escolher algums modelos para resolver nosso problema. \n",
    "\n",
    "\n",
    "\n",
    "- KNN or k-Nearest Neighbors\n",
    "- Support Vector Machines\n",
    "- Decision Tree\n",
    "- Random Forrest\n",
    "- Perceptron\n",
    "- Artificial neural network\n",
    "\n",
    "\n"
   ]
  },
  {
   "cell_type": "code",
   "execution_count": null,
   "id": "d9da6cfa-7137-48ac-ac52-98f67c91c7e3",
   "metadata": {},
   "outputs": [],
   "source": []
  },
  {
   "cell_type": "markdown",
   "id": "dbfdb296-343d-4ae4-932b-686a5493bd1b",
   "metadata": {},
   "source": [
    "- Vamos extrair do dataset de treino a variável Survived. Você sabe dizer o porque?"
   ]
  },
  {
   "cell_type": "code",
   "execution_count": null,
   "id": "9317acc2-c6c4-449f-a76c-4f78ba052c9a",
   "metadata": {},
   "outputs": [],
   "source": [
    "X_train = train_df.drop(\"Survived\", axis=1)\n",
    "Y_train = train_df[\"Survived\"]\n",
    "X_test  = test_df.drop(\"PassengerId\", axis=1).copy().dropna()\n",
    "X_train.shape, Y_train.shape, X_test.shape"
   ]
  },
  {
   "cell_type": "code",
   "execution_count": null,
   "id": "f406f5f0-e8cf-4e23-93f2-0218f4f8ca77",
   "metadata": {},
   "outputs": [],
   "source": []
  },
  {
   "cell_type": "markdown",
   "id": "39de6990-f79d-4dc9-aeee-45addd690912",
   "metadata": {},
   "source": [
    "## Regressão Logistica\n"
   ]
  },
  {
   "cell_type": "code",
   "execution_count": null,
   "id": "42a0a1f3-2986-4129-b445-aa9b91718b38",
   "metadata": {},
   "outputs": [],
   "source": [
    "logreg = LogisticRegression()\n",
    "logreg.fit(X_train, Y_train)"
   ]
  },
  {
   "cell_type": "code",
   "execution_count": null,
   "id": "9dab8fe6-27f0-4888-9136-d1c6a40f5feb",
   "metadata": {},
   "outputs": [],
   "source": [
    "Y_pred = logreg.predict(X_test)\n",
    "acc_log = round(logreg.score(X_train, Y_train) * 100, 2)\n",
    "acc_log"
   ]
  },
  {
   "cell_type": "code",
   "execution_count": null,
   "id": "5f31a543-2460-4417-9eac-65066bdb3729",
   "metadata": {},
   "outputs": [],
   "source": []
  },
  {
   "cell_type": "markdown",
   "id": "5164df15-0c74-4d46-8876-97fe5f033f99",
   "metadata": {},
   "source": [
    "## KNN"
   ]
  },
  {
   "cell_type": "code",
   "execution_count": null,
   "id": "c0727b79-ff6d-4bf2-b162-02d2c9e46f32",
   "metadata": {},
   "outputs": [],
   "source": [
    "knn = KNeighborsClassifier(n_neighbors = 3)\n",
    "knn.fit(X_train, Y_train)\n",
    "Y_pred = knn.predict(X_test)\n",
    "acc_knn = round(knn.score(X_train, Y_train) * 100, 2)\n",
    "acc_knn"
   ]
  },
  {
   "cell_type": "code",
   "execution_count": null,
   "id": "d30c2d62-7eba-4c54-86bb-cc9f49dde4da",
   "metadata": {},
   "outputs": [],
   "source": []
  }
 ],
 "metadata": {
  "kernelspec": {
   "display_name": "Python 3 (ipykernel)",
   "language": "python",
   "name": "python3"
  },
  "language_info": {
   "codemirror_mode": {
    "name": "ipython",
    "version": 3
   },
   "file_extension": ".py",
   "mimetype": "text/x-python",
   "name": "python",
   "nbconvert_exporter": "python",
   "pygments_lexer": "ipython3",
   "version": "3.9.5"
  }
 },
 "nbformat": 4,
 "nbformat_minor": 5
}
