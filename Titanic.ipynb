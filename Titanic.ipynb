{
 "cells": [
  {
   "cell_type": "markdown",
   "id": "f3cceacb-4355-4b77-beb6-71d4d67cab12",
   "metadata": {},
   "source": [
    "### Workflow\n",
    "\n",
    "\n",
    "1. Definição do problema\n",
    "2. Carregar dados de treinamento e test\n",
    "3. Preparar e limpar os dados\n",
    "4. Analisar, identificar padrões e explorar os dados\n",
    "5. Treinar o primeiro algoritmo de Machine Learning\n"
   ]
  },
  {
   "cell_type": "code",
   "execution_count": null,
   "id": "e991fceb-2f9f-49b4-a2aa-501db7ef9dea",
   "metadata": {},
   "outputs": [],
   "source": []
  },
  {
   "cell_type": "markdown",
   "id": "8ccab493-99ac-4d6c-bc01-91d397f3dc80",
   "metadata": {},
   "source": [
    "# Definição do problema\n",
    "\n",
    "A partir dos dados de quem sobreviveu e não sobreviveu ao desastre do Titanic em 15 de Abril de 1912, conseguimos criar um modelo que baseado nestes dados consegue indentificar padrões dos sobreviventes?\n"
   ]
  },
  {
   "cell_type": "code",
   "execution_count": null,
   "id": "6fa828d9-5aae-4ebb-bdd1-2f3ec99ab79c",
   "metadata": {},
   "outputs": [],
   "source": []
  },
  {
   "cell_type": "markdown",
   "id": "bdb5a104-e985-4498-81b3-97805a183a77",
   "metadata": {},
   "source": [
    "# Carregamento dos dados"
   ]
  },
  {
   "cell_type": "code",
   "execution_count": null,
   "id": "60f2f803-e4a9-4938-8288-42ebddbc25a4",
   "metadata": {},
   "outputs": [],
   "source": [
    "import pandas as pd"
   ]
  },
  {
   "cell_type": "code",
   "execution_count": null,
   "id": "2aa49db7-d611-44c7-9fa7-4f7ee86b4c32",
   "metadata": {},
   "outputs": [],
   "source": [
    "train_df = pd.read_csv(\"data/train.csv\")\n",
    "test_df = pd.read_csv(\"data/test.csv\")\n",
    "\n",
    "combine = [train_df, test_df]"
   ]
  },
  {
   "cell_type": "code",
   "execution_count": null,
   "id": "da52cbbf-17ba-4158-8143-476c99e5263f",
   "metadata": {},
   "outputs": [],
   "source": []
  },
  {
   "cell_type": "markdown",
   "id": "f7c69813-72bc-4bff-815f-3f3c41575a06",
   "metadata": {},
   "source": [
    "# Entendendo os dados"
   ]
  },
  {
   "cell_type": "markdown",
   "id": "09253eee-114e-4ccd-ab44-0a1c6d90007b",
   "metadata": {},
   "source": [
    "Quais são as caracteristicas presentes nos datasets?"
   ]
  },
  {
   "cell_type": "code",
   "execution_count": null,
   "id": "a527224d-7043-4d8d-ba7e-9c9cbe56cb5c",
   "metadata": {},
   "outputs": [],
   "source": []
  },
  {
   "cell_type": "markdown",
   "id": "0f31f818-f5c8-49ff-a940-b0445d564c6a",
   "metadata": {},
   "source": [
    "Quais caracteristicas são categóricas e quais são numéricas?"
   ]
  },
  {
   "cell_type": "code",
   "execution_count": null,
   "id": "206c83e0-9447-4668-be9b-21a3c480e3cb",
   "metadata": {},
   "outputs": [],
   "source": []
  },
  {
   "cell_type": "markdown",
   "id": "b4ceba47-76e2-4c5b-924a-1f2a9e6d92fd",
   "metadata": {},
   "source": [
    "Quais caracteristicas tem dados ambos?"
   ]
  },
  {
   "cell_type": "code",
   "execution_count": null,
   "id": "2708fe57-cff2-41a7-aef4-2f3cc8d09d5d",
   "metadata": {},
   "outputs": [],
   "source": []
  },
  {
   "cell_type": "markdown",
   "id": "9576534a-4ae1-49a6-92ef-736dbeddce04",
   "metadata": {},
   "source": [
    "Quais caracteristicas contém erros "
   ]
  },
  {
   "cell_type": "code",
   "execution_count": null,
   "id": "f7622905-de33-4c43-9b39-ee3dd93920f0",
   "metadata": {},
   "outputs": [],
   "source": []
  },
  {
   "cell_type": "code",
   "execution_count": null,
   "id": "b6cc7a15-bc36-44b3-99a3-77b49c5c9e20",
   "metadata": {},
   "outputs": [],
   "source": []
  },
  {
   "cell_type": "code",
   "execution_count": null,
   "id": "654fccd9-458d-4c8f-ab2a-bacd2a2b108f",
   "metadata": {},
   "outputs": [],
   "source": []
  },
  {
   "cell_type": "code",
   "execution_count": null,
   "id": "3f781025-0e26-4e41-b31e-821828cf2c7a",
   "metadata": {},
   "outputs": [],
   "source": []
  },
  {
   "cell_type": "code",
   "execution_count": null,
   "id": "a412d2ce-1520-4771-b5f9-08b083158915",
   "metadata": {},
   "outputs": [],
   "source": []
  },
  {
   "cell_type": "code",
   "execution_count": null,
   "id": "0d99c54c-9d93-4d46-843e-7961413d04a5",
   "metadata": {},
   "outputs": [],
   "source": []
  },
  {
   "cell_type": "code",
   "execution_count": null,
   "id": "28fa175f-745d-40c2-9ab3-bc5946d09e21",
   "metadata": {},
   "outputs": [],
   "source": []
  },
  {
   "cell_type": "code",
   "execution_count": null,
   "id": "b8b3c7a6-eb99-43fd-b397-4f17831c0598",
   "metadata": {},
   "outputs": [],
   "source": []
  },
  {
   "cell_type": "code",
   "execution_count": null,
   "id": "9e383d81-9ed0-4ade-811a-be1b53c37799",
   "metadata": {},
   "outputs": [],
   "source": []
  },
  {
   "cell_type": "code",
   "execution_count": null,
   "id": "6ef37fdf-f28f-4e09-99bc-22fd29d5aefc",
   "metadata": {},
   "outputs": [],
   "source": []
  }
 ],
 "metadata": {
  "kernelspec": {
   "display_name": "Python 3 (ipykernel)",
   "language": "python",
   "name": "python3"
  },
  "language_info": {
   "codemirror_mode": {
    "name": "ipython",
    "version": 3
   },
   "file_extension": ".py",
   "mimetype": "text/x-python",
   "name": "python",
   "nbconvert_exporter": "python",
   "pygments_lexer": "ipython3",
   "version": "3.9.5"
  }
 },
 "nbformat": 4,
 "nbformat_minor": 5
}
